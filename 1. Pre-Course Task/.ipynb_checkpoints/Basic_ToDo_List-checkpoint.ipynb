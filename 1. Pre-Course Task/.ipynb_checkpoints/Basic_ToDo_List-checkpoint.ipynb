{
 "cells": [
  {
   "cell_type": "code",
   "execution_count": null,
   "metadata": {
    "collapsed": true
   },
   "outputs": [],
   "source": [
    "todo_list = []"
   ]
  },
  {
   "cell_type": "code",
   "execution_count": null,
   "metadata": {},
   "outputs": [],
   "source": [
    "ask = input(\"Do you wish to create a To-Do List (Yes=1, No=2)?\\n\")\n",
    "var = int(ask)\n",
    "\n",
    "if var == 1:\n",
    "    print(\"\\nEnter the Title of your list in a String Format: \\n\")\n",
    "    list_1 = input(\"Enter Here:\")\n",
    "    todo_list.append(list_1)\n",
    "    print(\"\\nTitle - {}\\n\".format(todo_list[0]))\n",
    "else:\n",
    "    print(\"\\nThere is no List\")"
   ]
  },
  {
   "cell_type": "code",
   "execution_count": null,
   "metadata": {},
   "outputs": [],
   "source": [
    "ask1 = input(\"Do you wish to add an item to your {} (Yes=1, No=2)?\\n\".format(todo_list[0]))\n",
    "var1 = int(ask1)\n",
    "\n",
    "if var1 == 1:\n",
    "    print(\"\\nEnter your Task in a String Format: \\n\")\n",
    "    list1 = input(\"Enter Here:\")\n",
    "    todo_list.append(list1)\n",
    "    print(\"\\nYour {} is:\\n\".format(todo_list[0]))\n",
    "    for ind, val in enumerate(todo_list[1:]):\n",
    "        print(\"{}\".format(val))\n",
    "else:\n",
    "    print(\"\\nThere are no items in your {}\".format(todo_list[0]))"
   ]
  },
  {
   "cell_type": "code",
   "execution_count": null,
   "metadata": {},
   "outputs": [],
   "source": [
    "ask2 = input(\"Do you wish to add another task to your {} (Yes=1, No=2)?\\n\".format(todo_list[0]))\n",
    "var2 = int(ask2)\n",
    "\n",
    "if var2 == 1:\n",
    "    print(\"\\nEnter your Task in a String Format: \\n\")\n",
    "    list2 = input(\"Enter Here:\")\n",
    "    todo_list.append(list2)\n",
    "    print(\"\\nYour {} is:\\n\".format(todo_list[0]))\n",
    "    for i in todo_list[1:]:\n",
    "        print(\"{}\".format(i))\n",
    "else:\n",
    "    print(\"\\nThis is the complete list: \")\n",
    "    for j in todo_list[1:]:\n",
    "        print(\"{}\".format(j))"
   ]
  },
  {
   "cell_type": "code",
   "execution_count": null,
   "metadata": {},
   "outputs": [],
   "source": [
    "ask3 = input(\"Do you wish to add or delete an item to/from your {} (Add=1, Del=2)?\\n\".format(todo_list[0]))\n",
    "var3 = int(ask3)\n",
    "\n",
    "if var3 == 1:\n",
    "    print(\"\\nEnter your Task in a String Format: \\n\")\n",
    "    list3 = input(\"Enter Here:\")\n",
    "    todo_list.append(list3)\n",
    "    print(\"\\nYour {} is:\\n\".format(todo_list[0]))\n",
    "    for k in todo_list[1:]:\n",
    "        print(\"{}\".format(k))\n",
    "else:\n",
    "    print(\"\\nEnter the Task to be Deleted in the exact format as entered: \\n\")\n",
    "    list4 = input(\"Enter Here:\")\n",
    "    todo_list.remove(list4)\n",
    "    print(\"Your final {} is: \\n\".format(todo_list[0]))\n",
    "    for l in todo_list[1:]:\n",
    "        print(\"{}\".format(l))"
   ]
  },
  {
   "cell_type": "code",
   "execution_count": null,
   "metadata": {},
   "outputs": [],
   "source": [
    "ask4 = input(\"Do you wish to add or delete an item to/from your {} (Add=1, Del=2)?\\n\".format(todo_list[0]))\n",
    "var4 = int(ask4)\n",
    "\n",
    "if var4 == 1:\n",
    "    print(\"\\nEnter your Task in a String Format: \\n\")\n",
    "    list5 = input(\"Enter Here:\")\n",
    "    todo_list.append(list5)\n",
    "    print(\"\\nYour {} is:\\n\".format(todo_list[0]))\n",
    "    for k in todo_list[1:]:\n",
    "        print(\"{}\".format(k))\n",
    "else:\n",
    "    print(\"\\nEnter the Task to be Deleted in the exact format as entered: \\n\")\n",
    "    list6 = input(\"Enter Here:\")\n",
    "    todo_list.remove(list6)\n",
    "    print(\"Your final {} is: \\n\".format(todo_list[0]))\n",
    "    for l in todo_list[1:]:\n",
    "        print(\"{}\".format(l))"
   ]
  },
  {
   "cell_type": "code",
   "execution_count": null,
   "metadata": {},
   "outputs": [],
   "source": [
    "ask5 = input(\"Would you like to see or delete the full {} (See=1, Del=2)\\n\".format(todo_list[0]))\n",
    "var5 = int(ask5)\n",
    "\n",
    "if var5 == 1:\n",
    "    print(\"\\nYour Complete {} is: \\n\".format(todo_list[0]))\n",
    "    for b in todo_list[1:]:\n",
    "        print(\"{}\".format(b))\n",
    "else:\n",
    "    del(todo_list)\n",
    "    print(\"\\nYour List is Deleted\")"
   ]
  }
 ],
 "metadata": {
  "kernelspec": {
   "display_name": "Python 3",
   "language": "python",
   "name": "python3"
  },
  "language_info": {
   "codemirror_mode": {
    "name": "ipython",
    "version": 3
   },
   "file_extension": ".py",
   "mimetype": "text/x-python",
   "name": "python",
   "nbconvert_exporter": "python",
   "pygments_lexer": "ipython3",
   "version": "3.6.2"
  }
 },
 "nbformat": 4,
 "nbformat_minor": 2
}
