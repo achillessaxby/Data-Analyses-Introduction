{
 "cells": [
  {
   "cell_type": "markdown",
   "metadata": {},
   "source": [
    "## 00 - 00 Introduction to Python\n",
    "<img src=\"./images/00/python.png\" alt=\"Python Logo\" height=\"100\" width=\"100\" align='left'>\n",
    "\n",
    "----------------\n",
    "## Python"
   ]
  },
  {
   "cell_type": "markdown",
   "metadata": {},
   "source": [
    "`Python` is a great object-oriented, interpreted, and interactive programming language. It is widely used as general-purpose, high-level programming language. It is ranked among the [`top 5 programming languages`](http://spectrum.ieee.org/computing/software/the-2016-top-programming-languages) in the world. \n",
    "\n",
    "Python was conceived in the late 1980s as a teaching and scripting language and has since become an essential tool for many programmers, engineers, researchers, and data scientists across academia and industry. It can be used to create many things including web applications, desktop applications, as scripting interpreter and most relevant for you -- as a data analysis tool.. whether it is about '*making sense*' of the dataset that you are working with, scraping and cleaning the publicly available datasets or simply automating a task.. you will find python to be very agile to fit your needs. \n",
    "\n",
    "The reason python python is so versatile and widely used is because its simple and easy to learn syntax and due to the availability of a large ecosystem containing domain specific tools that have been built using it.\n",
    "\n",
    "> There are no type declarations of variables, parameters, functions, or methods in source code. This makes the code short and flexible, and you lose the compile-time type checking of the source code.\n",
    "\n",
    "> Python tracks the types of all values at runtime and flags code that does not make sense as it runs.\n",
    "\n",
    "Before we proceed further with learning the python syntax, lets familiarize ourselves with the environment that we will be using."
   ]
  },
  {
   "cell_type": "markdown",
   "metadata": {},
   "source": [
    "## 00 - 01 Introduction to Jupyter Notebook"
   ]
  },
  {
   "cell_type": "markdown",
   "metadata": {},
   "source": [
    "#### What is a Notebook\n",
    "The Juputer notebook (successor of Ipython notebook) is a web based interactive computational environment which provides a unique combination of code, shell environment and text. The Ipython notebook project that started of as a tool to provide the above mentioned functionalities just for python has since grown to be language agnostic supporting over 40 different languages and is now known as Jupyter notebook (or simply notebook). Simply put, a Jupter notebook is a [JSON](http://www.json.org/) document containing an ordered list of input/output cells which can contain code, text, mathematics, plots and rich media.\n",
    "\n",
    "The Jupyter Notebook combines three components:\n",
    "- **The notebook web application:** An interactive web application for writing and running code interactively and authoring notebook documents.\n",
    "- **Kernels:** Separate processes started by the notebook web application that runs user's code in a given language and returns output back to the notebook web application. The kernel also handles things like computations for interactive widgets, tab completion and introspection. \n",
    "- **Notebook documents:** Self-contained documents that contain a representation of all the contents visible in the notebook web application, including inputs and outputs of the computations, narrative text, equations, images, and rich media representations of objects. Each notebook document has its own kernel.\n",
    "\n",
    "#### Why do we even use a notebook instead of .. lets say .. a terminal or some text editor?\n",
    "The notebook web application enables users to:\n",
    "- Edit code in the browser, with automatic syntax highlighting, indentation, and tab completion/introspection.\n",
    "- Run code from the browser, with the results of computations attached to the code which generated them.\n",
    "- See the results of computations with rich media representations, such as HTML, $LaTeX$, PNG, SVG, PDF, etc.\n",
    "- Create and use interactive JavaScript widgets, which bind interactive user interface controls and visualizations to reactive kernel side computations.\n",
    "- Author narrative text using the Markdown markup language.\n",
    "- Build hierarchical documents that are organized into sections with different levels of headings.\n",
    "- Use different cell types, for example, to include mathematical equations using $LaTeX$ syntax in Markdown, which are rendered in-browser by MathJax.\n",
    "\n",
    "#### DIfferent Cell Types?\n",
    "Notebooks consist of a linear sequence of cells. There are four basic cell types:\n",
    "- **Code cells:** Input and output of live code that is run in the kernel\n",
    "- **Markdown cells:** Narrative text with embedded LaTeX equations\n",
    "- **Heading cells:** 6 levels of hierarchical organization and formatting\n",
    "- **Raw cells:** Unformatted text that is included, without modification, when notebooks are converted to different formats using nbconvert\n",
    "These cell types can be viewed by clicking `Cell -> Cell Type` in menu bar"
   ]
  },
  {
   "cell_type": "markdown",
   "metadata": {},
   "source": [
    "#### Working with Notebook\n",
    "Jupyter Notebook has a modal user interface. This means that the keyboard does different things depending on which mode the Notebook is in. There are two modes: **Edit** mode and **Command** mode.\n",
    "\n",
    "- ##### Edit Mode\n",
    "Edit mode is indicated by a green (or some different color than when you are not editing the cell) cell border and a prompt showing in the editor area. When a cell is in edit mode, you can type into the cell, like a normal text editor. To enter the edit mode, navigate to the cell and press `Enter`\n",
    "<img src=\"./images/00/new_edit.png\" alt=\"Jupyter notebook dashboard\" align='center'>\n",
    "\n",
    "- ##### Command Mode\n",
    "Command mode is indicated by a grey cell border with a blue (or some different color than when you are editing the cell) left margin. To enter into command mode, press `Esc` key. This will bring you out of the edit mode\n",
    "<img src=\"./images/00/new_command.png\" alt=\"Jupyter notebook dashboard\" align='center'>\n",
    "\n",
    "- ##### Keyboard Shortcuts\n",
    "In command mode, the keyboard is mapped to a set of shortcuts that let you perform notebook and cell actions efficiently.\n",
    "Its recommended learning the command mode shortcuts in the following rough order:\n",
    "- Basic navigation: enter, shift-enter, up/k, down/j\n",
    "- Saving the notebook: s\n",
    "- Change Cell types: y, m, 1-6, t (markdown in this case)\n",
    "- Cell creation: a, b\n",
    "- Cell editing: x, c, v, d, z\n",
    "- Kernel operations: i, 0 (press twice)<br><br>\n",
    "This will help speed up your development time.\n",
    "To know more about keyboard shortcuts, click: `Help -> Keyboard Shortcuts` in the menu bar\n",
    "\n",
    "##### Closing and Deleting a Notebook\n",
    "The notebooks that are currently open are shown in green icon on dashboard page. The notebooks will remain running until you explicitly shut them down. To do that, check the box next to the notebook that you want to close and observe the controls on top of the notebook.\n",
    "<img src=\"./images/00/closing.png\" alt=\"Jupyter notebook dashboard\" align='center'>\n",
    "- To close the notebook, you can click on the `shutdown` button\n",
    "- To remove/ delete the notebook you can click on *recycle bin* next to the shutdown option"
   ]
  },
  {
   "cell_type": "markdown",
   "metadata": {},
   "source": [
    "> ##### At this stage, I would advise taking some time and familiarizing yourselves with the Notebook, UI and Cell shortcuts. "
   ]
  },
  {
   "cell_type": "markdown",
   "metadata": {},
   "source": [
    "### 00 - 02 Introduction to Python Syntax"
   ]
  },
  {
   "cell_type": "markdown",
   "metadata": {},
   "source": [
    "The syntax of the Python programming language is the set of rules that defines how a Python program will be written and interpreted by the system (and by yourself). Python was designed to be a highly readable language. It has uncluttered visual layout and uses English keywords frequently. Python aims towards simplicity and generality in the design of its syntax. \n",
    "\n",
    "In fact Python's syntax guidelines are encapsulated in the mantra \"There should be one and preferably only one obvious way to do it\". You can read more about it in [`The Zen of Python`](www.python.org/dev/peps/pep-0020/ 'The Zen of Python')."
   ]
  },
  {
   "cell_type": "markdown",
   "metadata": {},
   "source": [
    "#### Indentation\n",
    "Python provides no braces to indicate blocks of code. Blocks of code are denoted by line indentation. The number of spaces or tabs in an indentation is variable but it is rigidly enforced. For example,"
   ]
  },
  {
   "cell_type": "code",
   "execution_count": 3,
   "metadata": {},
   "outputs": [
    {
     "name": "stdout",
     "output_type": "stream",
     "text": [
      "a is 12 :) \n"
     ]
    }
   ],
   "source": [
    "a = 12\n",
    "if a == 12:\n",
    "    print(\"a is 12 :) \")\n",
    "else:\n",
    "    print(\"a is not 12 :( \")"
   ]
  },
  {
   "cell_type": "markdown",
   "metadata": {},
   "source": [
    "If I don't respect the indentation, let's say, in else block of code.. let's see what happens"
   ]
  },
  {
   "cell_type": "code",
   "execution_count": 4,
   "metadata": {},
   "outputs": [
    {
     "ename": "IndentationError",
     "evalue": "expected an indented block (<ipython-input-4-22237de9583e>, line 5)",
     "output_type": "error",
     "traceback": [
      "\u001b[0;36m  File \u001b[0;32m\"<ipython-input-4-22237de9583e>\"\u001b[0;36m, line \u001b[0;32m5\u001b[0m\n\u001b[0;31m    print (\"a is not 12 :( \")\u001b[0m\n\u001b[0m        ^\u001b[0m\n\u001b[0;31mIndentationError\u001b[0m\u001b[0;31m:\u001b[0m expected an indented block\n"
     ]
    }
   ],
   "source": [
    "a = 12\n",
    "if a == 12:\n",
    "    print(\"a is 12 :) \")\n",
    "else:\n",
    "print (\"a is not 12 :( \")"
   ]
  },
  {
   "cell_type": "markdown",
   "metadata": {},
   "source": [
    "> Note: (python) Notebooks automatically indent your code so you don't have to. However when you write your own code in a regular text editor or in an [idle](https://docs.python.org/3/library/idle.html), make sure to indent your code.\n",
    "\n",
    "> Note: Cross-platform compatibility note: because of the nature of text editors on non-UNIX platforms, it is unwise to use a mixture of spaces and tabs for the indentation in a single source file. It should also be noted that different platforms may explicitly limit the maximum indentation level.\n",
    "\n",
    "Thus, if we want to add any more lines in the condition blocks, the lines should all have same level of indentation inside if block or else block."
   ]
  },
  {
   "cell_type": "markdown",
   "metadata": {},
   "source": [
    "#### Multi-line Statements\n",
    "Statements in Python typically ends with a new line. However python allows the use of the line continuation character ( \\ ) to denote that the line should continue. For example:"
   ]
  },
  {
   "cell_type": "code",
   "execution_count": 5,
   "metadata": {},
   "outputs": [
    {
     "ename": "SyntaxError",
     "evalue": "EOL while scanning string literal (<ipython-input-5-8498df2221f9>, line 1)",
     "output_type": "error",
     "traceback": [
      "\u001b[0;36m  File \u001b[0;32m\"<ipython-input-5-8498df2221f9>\"\u001b[0;36m, line \u001b[0;32m1\u001b[0m\n\u001b[0;31m    a = \"Hello\u001b[0m\n\u001b[0m               ^\u001b[0m\n\u001b[0;31mSyntaxError\u001b[0m\u001b[0;31m:\u001b[0m EOL while scanning string literal\n"
     ]
    }
   ],
   "source": [
    "a = \"Hello \n",
    "World\"\n",
    "print(a)"
   ]
  },
  {
   "cell_type": "code",
   "execution_count": 6,
   "metadata": {},
   "outputs": [
    {
     "name": "stdout",
     "output_type": "stream",
     "text": [
      "Hello World\n"
     ]
    }
   ],
   "source": [
    "a = \"Hello \\\n",
    "World\"\n",
    "print(a)"
   ]
  },
  {
   "cell_type": "markdown",
   "metadata": {},
   "source": [
    "The above is an explicit line joining technique\n",
    "Another way to tell python not to end is by putting the strings or variables within the brackets ( ), { }, [ ] without using the line continuation character. For example:"
   ]
  },
  {
   "cell_type": "code",
   "execution_count": 7,
   "metadata": {},
   "outputs": [
    {
     "data": {
      "text/plain": [
       "['one', 'two', 'threefour', 'five']"
      ]
     },
     "execution_count": 7,
     "metadata": {},
     "output_type": "execute_result"
    }
   ],
   "source": [
    "num = ['one', 'two', 'three'\n",
    "       'four', 'five']\n",
    "num"
   ]
  },
  {
   "cell_type": "markdown",
   "metadata": {},
   "source": [
    "This is known as implicit line joining technique.\n",
    "\n",
    "> Did you notice, to print the variable `num`, I didn't use `print` function? This is possible only in notebook or other repl environments but won't work in the stand-alone code that you will write later\n",
    "> The different brackets mean different things. We will study about them in later chapters. This is just to demonstrate a way of using multi-line statements."
   ]
  },
  {
   "cell_type": "markdown",
   "metadata": {},
   "source": [
    "#### Quotations\n",
    "You must have seen that in the above examples. we have used single and double quotes. Python accepts single, double and triple (''' or \"\"\")quotes to denote string literals. Bear in mind that the start quote and end quote should be of same type. Strings are generally created by using single or double quotes (python treats single and double quotes as the same.) Triple quotes are used when the string literals span across multiple lines. Consider following examples:"
   ]
  },
  {
   "cell_type": "code",
   "execution_count": 8,
   "metadata": {
    "collapsed": true
   },
   "outputs": [],
   "source": [
    "name = 'Python_Introduction'\n",
    "instructor = \"Achilles Saxby\"\n",
    "description = '''The Python_Introduction at Techno India is a series of online sessions designed to build a \n",
    "common skillset and familiarity with techniques, concepts, and models for \n",
    "computing in Python. The online sessions focus on data explorations, \n",
    "programming skills and statistical methods needed for scientific computing \n",
    "in the field of Basic Data Science in the world today.'''"
   ]
  },
  {
   "cell_type": "code",
   "execution_count": 9,
   "metadata": {},
   "outputs": [
    {
     "name": "stdout",
     "output_type": "stream",
     "text": [
      "Python_Introduction\n"
     ]
    }
   ],
   "source": [
    "print(name)"
   ]
  },
  {
   "cell_type": "code",
   "execution_count": 10,
   "metadata": {},
   "outputs": [
    {
     "name": "stdout",
     "output_type": "stream",
     "text": [
      "Achilles Saxby\n"
     ]
    }
   ],
   "source": [
    "print(instructor)"
   ]
  },
  {
   "cell_type": "code",
   "execution_count": 11,
   "metadata": {},
   "outputs": [
    {
     "name": "stdout",
     "output_type": "stream",
     "text": [
      "The Python_Introduction at Techno India is a series of online sessions designed to build a \n",
      "common skillset and familiarity with techniques, concepts, and models for \n",
      "computing in Python. The online sessions focus on data explorations, \n",
      "programming skills and statistical methods needed for scientific computing \n",
      "in the field of Basic Data Science in the world today.\n"
     ]
    }
   ],
   "source": [
    "print(description)"
   ]
  },
  {
   "cell_type": "code",
   "execution_count": 12,
   "metadata": {},
   "outputs": [
    {
     "name": "stdout",
     "output_type": "stream",
     "text": [
      "Python_Introduction\n",
      "Achilles Saxby\n",
      "The Python_Introduction at Techno India is a series of online sessions designed to build a \n",
      "common skillset and familiarity with techniques, concepts, and models for \n",
      "computing in Python. The online sessions focus on data explorations, \n",
      "programming skills and statistical methods needed for scientific computing \n",
      "in the field of Basic Data Science in the world today.\n"
     ]
    }
   ],
   "source": [
    "print(name)\n",
    "print(instructor)\n",
    "print(description)"
   ]
  },
  {
   "cell_type": "markdown",
   "metadata": {},
   "source": [
    "#### Comments\n",
    "Comments are the statements that are not evaluated by python. It is generally used for improving the readability/ understanding of what the code does. There are basically 3 ways of doing it\n",
    "- ##### Block Comments\n",
    "Block comments generally apply to some (or all) code that follows them, and are indented to the same level as that code. Each line of a block comment starts with a `#` and a single space. Paragraphs inside a block comment are separated by a line containing a single `#`. \n",
    "> You can replace `#` by putting the comment inside `'''` in a **non repl** environment"
   ]
  },
  {
   "cell_type": "code",
   "execution_count": 13,
   "metadata": {},
   "outputs": [
    {
     "data": {
      "text/plain": [
       "12"
      ]
     },
     "execution_count": 13,
     "metadata": {},
     "output_type": "execute_result"
    }
   ],
   "source": [
    "# I wont be evaluated\n",
    "a = 12\n",
    "a"
   ]
  },
  {
   "cell_type": "markdown",
   "metadata": {},
   "source": [
    "- ##### Inline Comments\n",
    "An inline comment is a comment on the same line as a statement. Inline comments should be separated by at least two spaces from the statement. They should start with a # and a single space. Inline comments are unnecessary and in fact distracting if they state the obvious."
   ]
  },
  {
   "cell_type": "code",
   "execution_count": 14,
   "metadata": {
    "collapsed": true
   },
   "outputs": [],
   "source": [
    "x = 100  # Setting x to 100 (this is unnecessary)"
   ]
  },
  {
   "cell_type": "markdown",
   "metadata": {},
   "source": [
    "##### Docstrings\n",
    "Every function that you write should be accompanied with a Docstring that tells about the function.\n",
    "\n",
    "Docstrings are written between a triple quote (\"\"\" ...< docstring >...\"\"\").\n",
    "> We'll learn about functions a bit later.. and will enforce having docstrings there."
   ]
  },
  {
   "cell_type": "code",
   "execution_count": 15,
   "metadata": {
    "collapsed": true
   },
   "outputs": [],
   "source": [
    "def my_func():\n",
    "    \"\"\"\n",
    "    This function will\n",
    "    perform .....\n",
    "    \"\"\"\n",
    "    pass"
   ]
  },
  {
   "cell_type": "code",
   "execution_count": 16,
   "metadata": {},
   "outputs": [
    {
     "data": {
      "text/plain": [
       "'\\n    This function will\\n    perform .....\\n    '"
      ]
     },
     "execution_count": 16,
     "metadata": {},
     "output_type": "execute_result"
    }
   ],
   "source": [
    "my_func.__doc__"
   ]
  }
 ],
 "metadata": {
  "kernelspec": {
   "display_name": "Python 3",
   "language": "python",
   "name": "python3"
  },
  "language_info": {
   "codemirror_mode": {
    "name": "ipython",
    "version": 3
   },
   "file_extension": ".py",
   "mimetype": "text/x-python",
   "name": "python",
   "nbconvert_exporter": "python",
   "pygments_lexer": "ipython3",
   "version": "3.6.2"
  }
 },
 "nbformat": 4,
 "nbformat_minor": 2
}
