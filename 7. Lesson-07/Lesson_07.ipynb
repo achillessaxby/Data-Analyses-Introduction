{
 "cells": [
  {
   "cell_type": "markdown",
   "metadata": {
    "ExecuteTime": {
     "end_time": "2018-12-28T10:18:22.122684Z",
     "start_time": "2018-12-28T10:18:22.116505Z"
    }
   },
   "source": [
    "## Achilles Saxby\n",
    "- Data Analysis Chapter\n",
    "- Final Lesson"
   ]
  },
  {
   "cell_type": "markdown",
   "metadata": {},
   "source": [
    "### Various Analysis Covered in this Chapter\n",
    "- Creating Hypothesis for Statistical Testings\n",
    "- Visual Analysis\n",
    "- Statistical Analysis"
   ]
  },
  {
   "cell_type": "markdown",
   "metadata": {
    "ExecuteTime": {
     "end_time": "2019-01-02T10:40:25.012120Z",
     "start_time": "2019-01-02T10:40:25.008660Z"
    }
   },
   "source": [
    "#### ----------------------------------------------------------------------------------------------------------------------------------------------------------------------"
   ]
  },
  {
   "cell_type": "markdown",
   "metadata": {},
   "source": [
    "### Creating Hypothesis for Statistical Testings"
   ]
  },
  {
   "cell_type": "markdown",
   "metadata": {},
   "source": [
    "#### ----------------------------------------------------------------------------------------------------------------------------------------------------------------------"
   ]
  },
  {
   "cell_type": "markdown",
   "metadata": {},
   "source": [
    "#### Do diets help lose more fat than the exercise?\n",
    "- Experimental setup: you have a test and a control sample."
   ]
  },
  {
   "cell_type": "markdown",
   "metadata": {},
   "source": [
    "Null Hypothesis: Exercising makes you lose more weight than dieting does.\n",
    "\n",
    "\"The mean weight lost by the population in the test sample that was exercising is greater than or equal to the mean weight lost by the control sample that did not exercise and only went into dieting.\"\n",
    "\n",
    "- $H_0$ => $Mean_W(exercise) >= Mean_W(diet)$"
   ]
  },
  {
   "cell_type": "markdown",
   "metadata": {},
   "source": [
    "Alternate Hypothesis: Dieting makes you lose more weight than Exercising does.\n",
    "\n",
    "\"The mean weight lost by the population in the test sample that was exercising is less than the mean weight lost by the control sample that went into dieting.\"\n",
    "\n",
    "- $H_a$ => $Mean_W(exercise) < Mean_W(diet)$"
   ]
  },
  {
   "cell_type": "markdown",
   "metadata": {},
   "source": [
    "Significance Level\n",
    "- Significance Level - 0.05 or 5%"
   ]
  },
  {
   "cell_type": "markdown",
   "metadata": {},
   "source": [
    "#### ----------------------------------------------------------------------------------------------------------------------------------------------------------------------"
   ]
  },
  {
   "cell_type": "markdown",
   "metadata": {},
   "source": [
    "#### Do American trust the president?\n",
    "- POLL RESULTS: On May 16, 1994, Newsweek reported the results of a public opinion poll that asked: “From everything you know about Bill Clinton, does he have the honesty and integrity you expect in a president?” (p.23). Poll surveyed 518 adults and 233, or 0.45 of them answered yes."
   ]
  },
  {
   "cell_type": "markdown",
   "metadata": {},
   "source": [
    "Null Hypothesis: Yes, the American population does trust the president.\n",
    "\n",
    "\"The proportion of the American population that trusts the president is greater than or equal to the proportion of the American population that does not trust the president.\"\n",
    "\n",
    "- $H_0$ => $Percentage(Trust) >= Percentage(Does-Not-Trust)$"
   ]
  },
  {
   "cell_type": "markdown",
   "metadata": {},
   "source": [
    "Alternate Hypothesis: No, the American population does not trust the president.\n",
    "\n",
    "\"The proportion of the American population that trusts the president is less than the proportion of the American population that does not trust the president.\"\n",
    "\n",
    "- $H_a$ => $Percentage(Trust) < Percentage(Does-Not-Trust)$"
   ]
  },
  {
   "cell_type": "markdown",
   "metadata": {},
   "source": [
    "Significance Level\n",
    "- Significance Level - 0.05 or 5%"
   ]
  },
  {
   "cell_type": "markdown",
   "metadata": {},
   "source": [
    "#### ----------------------------------------------------------------------------------------------------------------------------------------------------------------------"
   ]
  },
  {
   "cell_type": "markdown",
   "metadata": {},
   "source": [
    "#### Effectiveness of nicotine patches to quit smoking.\n",
    "- Experimental setup: measure cessation rates for smokers randomly assigned to use a nicotine patch versus a placebo patch."
   ]
  },
  {
   "cell_type": "markdown",
   "metadata": {},
   "source": [
    "Null Hypothesis: Nicotine patches do not help quit smoking.\n",
    "\n",
    "\"The cessation rates for smokers using a nicotine patch is less than or equal to the cessation rates for smokers who use placebo patches.\"\n",
    "\n",
    "- $H_0$ => $Cessation_n <= Cessation_p$"
   ]
  },
  {
   "cell_type": "markdown",
   "metadata": {},
   "source": [
    "Alternate Hypothesis: Nicotine patches help quit smoking !!\n",
    "\n",
    "\"The cessation rates for smokers using a nicotine patch is greater than the cessation rates for smokers who use placebo patches.\"\n",
    "\n",
    "- $H_a$ => $Cessation_n > Cessation_p$"
   ]
  },
  {
   "cell_type": "markdown",
   "metadata": {},
   "source": [
    "Significance Level\n",
    "- Significance Level - 0.05 or 5%\n",
    "- $Cessation_n = Cessation-Nicotine$\n",
    "- $Cessation_p = Cessation-Placebo$"
   ]
  },
  {
   "cell_type": "markdown",
   "metadata": {},
   "source": [
    "#### ----------------------------------------------------------------------------------------------------------------------------------------------------------------------"
   ]
  },
  {
   "cell_type": "markdown",
   "metadata": {},
   "source": [
    "#### Quantify the danger of smoking for pregnant women.\n",
    "- Experimemtal setup: measure IQ of children at ages 1, 2, 3, and 4 years of age."
   ]
  },
  {
   "cell_type": "markdown",
   "metadata": {},
   "source": [
    "Null Hypothesis: Smoking during pregnancy does not harm the IQ of children after childbirth !!\n",
    "\n",
    "\"The IQ of children at ages 1, 2, 3 and 4 to mothers who smoked during pregnancy is higher than the IQ of the children of the same age groups to mothers who did not smoke during pregnancy.\"\n",
    "\n",
    "- $H_0$ => $IQ(smoking) > IQ(non-smoking)$"
   ]
  },
  {
   "cell_type": "markdown",
   "metadata": {},
   "source": [
    "Alternate Hypothesis: Smoking during pregnancy harms the IQ of children after childbirth !!\n",
    "\n",
    "\"The IQ of children at ages 1, 2, 3 and 4 to mothers who smoked during pregnancy is less than or equal to the IQ of the children of the same age groups to mothers who did not smoke during pregnancy.\"\n",
    "\n",
    "- $H_a$ => $IQ(smoking) <= IQ(non-smoking)$"
   ]
  },
  {
   "cell_type": "markdown",
   "metadata": {},
   "source": [
    "Significance Level\n",
    "- Significance Level - 0.05 or 5%"
   ]
  },
  {
   "cell_type": "markdown",
   "metadata": {},
   "source": [
    "#### ----------------------------------------------------------------------------------------------------------------------------------------------------------------------"
   ]
  },
  {
   "cell_type": "markdown",
   "metadata": {},
   "source": [
    "### Visual and Statistical Analyses\n",
    "- Visual Representation\n",
    "- Statistical Analyses"
   ]
  },
  {
   "cell_type": "markdown",
   "metadata": {},
   "source": [
    "#### Problem Statement :\n",
    "- Test whether a gaussian model N($\\mu$, $\\sigma$) for the age distribution of citibike drivers is a sensible model, or if you can find a better fit with another distribution.\n",
    "- Use 2 tests: KS, AD, KL, chisq (even though we have not talked about it in detail yet) to do this.\n",
    "- Test at the Normal and a least one other distributions (e.g. Poisson, or Binomial, or Chisq, Lognormal.......)"
   ]
  },
  {
   "cell_type": "code",
   "execution_count": 9,
   "metadata": {
    "ExecuteTime": {
     "end_time": "2019-01-02T10:47:39.018935Z",
     "start_time": "2019-01-02T10:47:39.005879Z"
    }
   },
   "outputs": [
    {
     "data": {
      "text/plain": [
       "'Wednesday'"
      ]
     },
     "execution_count": 9,
     "metadata": {},
     "output_type": "execute_result"
    }
   ],
   "source": [
    "import datetime \n",
    "import calendar\n",
    "\n",
    "my_date = datetime.datetime(2019, 1 , 2)\n",
    "calendar.day_name[my_date.weekday()]"
   ]
  },
  {
   "cell_type": "code",
   "execution_count": 10,
   "metadata": {
    "ExecuteTime": {
     "end_time": "2019-01-02T10:48:17.956028Z",
     "start_time": "2019-01-02T10:48:17.939670Z"
    }
   },
   "outputs": [
    {
     "name": "stdout",
     "output_type": "stream",
     "text": [
      "Populating the interactive namespace from numpy and matplotlib\n"
     ]
    }
   ],
   "source": [
    "import pylab as pl\n",
    "import pandas as pd\n",
    "import numpy as np\n",
    "import matplotlib.pylab as plt\n",
    "import scipy.stats\n",
    "import statsmodels.api as sm\n",
    "import statsmodels.formula.api as smf\n",
    "import os\n",
    "import csv\n",
    "\n",
    "%matplotlib inline\n",
    "%pylab inline\n",
    "\n",
    "import warnings\n",
    "warnings.filterwarnings(\"ignore\")"
   ]
  },
  {
   "cell_type": "code",
   "execution_count": 11,
   "metadata": {
    "ExecuteTime": {
     "end_time": "2019-01-02T10:48:41.509234Z",
     "start_time": "2019-01-02T10:48:41.506534Z"
    }
   },
   "outputs": [],
   "source": [
    "datestring = '201505'"
   ]
  },
  {
   "cell_type": "code",
   "execution_count": 12,
   "metadata": {
    "ExecuteTime": {
     "end_time": "2019-01-02T10:49:32.850661Z",
     "start_time": "2019-01-02T10:49:30.058029Z"
    }
   },
   "outputs": [
    {
     "data": {
      "text/html": [
       "<div>\n",
       "<style scoped>\n",
       "    .dataframe tbody tr th:only-of-type {\n",
       "        vertical-align: middle;\n",
       "    }\n",
       "\n",
       "    .dataframe tbody tr th {\n",
       "        vertical-align: top;\n",
       "    }\n",
       "\n",
       "    .dataframe thead th {\n",
       "        text-align: right;\n",
       "    }\n",
       "</style>\n",
       "<table border=\"1\" class=\"dataframe\">\n",
       "  <thead>\n",
       "    <tr style=\"text-align: right;\">\n",
       "      <th></th>\n",
       "      <th>tripduration</th>\n",
       "      <th>starttime</th>\n",
       "      <th>stoptime</th>\n",
       "      <th>start station id</th>\n",
       "      <th>start station name</th>\n",
       "      <th>start station latitude</th>\n",
       "      <th>start station longitude</th>\n",
       "      <th>end station id</th>\n",
       "      <th>end station name</th>\n",
       "      <th>end station latitude</th>\n",
       "      <th>end station longitude</th>\n",
       "      <th>bikeid</th>\n",
       "      <th>usertype</th>\n",
       "      <th>birth year</th>\n",
       "      <th>gender</th>\n",
       "    </tr>\n",
       "  </thead>\n",
       "  <tbody>\n",
       "    <tr>\n",
       "      <td>0</td>\n",
       "      <td>415</td>\n",
       "      <td>5/1/2015 00:00:11</td>\n",
       "      <td>5/1/2015 00:07:06</td>\n",
       "      <td>477</td>\n",
       "      <td>W 41 St &amp; 8 Ave</td>\n",
       "      <td>40.756405</td>\n",
       "      <td>-73.990026</td>\n",
       "      <td>442</td>\n",
       "      <td>W 27 St &amp; 7 Ave</td>\n",
       "      <td>40.746647</td>\n",
       "      <td>-73.993915</td>\n",
       "      <td>17012</td>\n",
       "      <td>Subscriber</td>\n",
       "      <td>1981.0</td>\n",
       "      <td>1</td>\n",
       "    </tr>\n",
       "    <tr>\n",
       "      <td>1</td>\n",
       "      <td>1523</td>\n",
       "      <td>5/1/2015 00:00:28</td>\n",
       "      <td>5/1/2015 00:25:52</td>\n",
       "      <td>293</td>\n",
       "      <td>Lafayette St &amp; E 8 St</td>\n",
       "      <td>40.730287</td>\n",
       "      <td>-73.990765</td>\n",
       "      <td>324</td>\n",
       "      <td>DeKalb Ave &amp; Hudson Ave</td>\n",
       "      <td>40.689888</td>\n",
       "      <td>-73.981013</td>\n",
       "      <td>17390</td>\n",
       "      <td>Customer</td>\n",
       "      <td>NaN</td>\n",
       "      <td>0</td>\n",
       "    </tr>\n",
       "    <tr>\n",
       "      <td>2</td>\n",
       "      <td>642</td>\n",
       "      <td>5/1/2015 00:00:52</td>\n",
       "      <td>5/1/2015 00:11:35</td>\n",
       "      <td>380</td>\n",
       "      <td>W 4 St &amp; 7 Ave S</td>\n",
       "      <td>40.734011</td>\n",
       "      <td>-74.002939</td>\n",
       "      <td>507</td>\n",
       "      <td>E 25 St &amp; 2 Ave</td>\n",
       "      <td>40.739126</td>\n",
       "      <td>-73.979738</td>\n",
       "      <td>15003</td>\n",
       "      <td>Subscriber</td>\n",
       "      <td>1990.0</td>\n",
       "      <td>1</td>\n",
       "    </tr>\n",
       "    <tr>\n",
       "      <td>3</td>\n",
       "      <td>367</td>\n",
       "      <td>5/1/2015 00:00:48</td>\n",
       "      <td>5/1/2015 00:06:55</td>\n",
       "      <td>537</td>\n",
       "      <td>Lexington Ave &amp; E 24 St</td>\n",
       "      <td>40.740259</td>\n",
       "      <td>-73.984092</td>\n",
       "      <td>280</td>\n",
       "      <td>E 10 St &amp; 5 Ave</td>\n",
       "      <td>40.733320</td>\n",
       "      <td>-73.995101</td>\n",
       "      <td>14788</td>\n",
       "      <td>Subscriber</td>\n",
       "      <td>1978.0</td>\n",
       "      <td>1</td>\n",
       "    </tr>\n",
       "    <tr>\n",
       "      <td>4</td>\n",
       "      <td>2734</td>\n",
       "      <td>5/1/2015 00:00:51</td>\n",
       "      <td>5/1/2015 00:46:26</td>\n",
       "      <td>426</td>\n",
       "      <td>West St &amp; Chambers St</td>\n",
       "      <td>40.717548</td>\n",
       "      <td>-74.013221</td>\n",
       "      <td>327</td>\n",
       "      <td>Vesey Pl &amp; River Terrace</td>\n",
       "      <td>40.715338</td>\n",
       "      <td>-74.016584</td>\n",
       "      <td>21068</td>\n",
       "      <td>Subscriber</td>\n",
       "      <td>1956.0</td>\n",
       "      <td>2</td>\n",
       "    </tr>\n",
       "  </tbody>\n",
       "</table>\n",
       "</div>"
      ],
      "text/plain": [
       "   tripduration          starttime           stoptime  start station id  \\\n",
       "0           415  5/1/2015 00:00:11  5/1/2015 00:07:06               477   \n",
       "1          1523  5/1/2015 00:00:28  5/1/2015 00:25:52               293   \n",
       "2           642  5/1/2015 00:00:52  5/1/2015 00:11:35               380   \n",
       "3           367  5/1/2015 00:00:48  5/1/2015 00:06:55               537   \n",
       "4          2734  5/1/2015 00:00:51  5/1/2015 00:46:26               426   \n",
       "\n",
       "        start station name  start station latitude  start station longitude  \\\n",
       "0          W 41 St & 8 Ave               40.756405               -73.990026   \n",
       "1    Lafayette St & E 8 St               40.730287               -73.990765   \n",
       "2         W 4 St & 7 Ave S               40.734011               -74.002939   \n",
       "3  Lexington Ave & E 24 St               40.740259               -73.984092   \n",
       "4    West St & Chambers St               40.717548               -74.013221   \n",
       "\n",
       "   end station id          end station name  end station latitude  \\\n",
       "0             442           W 27 St & 7 Ave             40.746647   \n",
       "1             324   DeKalb Ave & Hudson Ave             40.689888   \n",
       "2             507           E 25 St & 2 Ave             40.739126   \n",
       "3             280           E 10 St & 5 Ave             40.733320   \n",
       "4             327  Vesey Pl & River Terrace             40.715338   \n",
       "\n",
       "   end station longitude  bikeid    usertype  birth year  gender  \n",
       "0             -73.993915   17012  Subscriber      1981.0       1  \n",
       "1             -73.981013   17390    Customer         NaN       0  \n",
       "2             -73.979738   15003  Subscriber      1990.0       1  \n",
       "3             -73.995101   14788  Subscriber      1978.0       1  \n",
       "4             -74.016584   21068  Subscriber      1956.0       2  "
      ]
     },
     "execution_count": 12,
     "metadata": {},
     "output_type": "execute_result"
    }
   ],
   "source": [
    "df = pd.read_csv(\"sample_datasets/\" + datestring + '-citibike-tripdata.csv')\n",
    "df.head()"
   ]
  },
  {
   "cell_type": "code",
   "execution_count": 13,
   "metadata": {
    "ExecuteTime": {
     "end_time": "2019-01-02T10:49:41.124864Z",
     "start_time": "2019-01-02T10:49:41.120055Z"
    }
   },
   "outputs": [
    {
     "data": {
      "text/plain": [
       "Index(['tripduration', 'starttime', 'stoptime', 'start station id',\n",
       "       'start station name', 'start station latitude',\n",
       "       'start station longitude', 'end station id', 'end station name',\n",
       "       'end station latitude', 'end station longitude', 'bikeid', 'usertype',\n",
       "       'birth year', 'gender'],\n",
       "      dtype='object')"
      ]
     },
     "execution_count": 13,
     "metadata": {},
     "output_type": "execute_result"
    }
   ],
   "source": [
    "df.columns"
   ]
  },
  {
   "cell_type": "code",
   "execution_count": 14,
   "metadata": {
    "ExecuteTime": {
     "end_time": "2019-01-02T10:49:48.310628Z",
     "start_time": "2019-01-02T10:49:48.088243Z"
    }
   },
   "outputs": [
    {
     "data": {
      "text/plain": [
       "Index(['tripduration', 'starttime', 'stoptime', 'start station id',\n",
       "       'start station name', 'start station latitude',\n",
       "       'start station longitude', 'end station id', 'end station name',\n",
       "       'end station latitude', 'end station longitude', 'bikeid', 'usertype',\n",
       "       'birth year', 'gender', 'age'],\n",
       "      dtype='object')"
      ]
     },
     "execution_count": 14,
     "metadata": {},
     "output_type": "execute_result"
    }
   ],
   "source": [
    "df['age'] = 2015 - df['birth year'][(df['usertype'] == 'Subscriber')]\n",
    "df.columns"
   ]
  },
  {
   "cell_type": "code",
   "execution_count": 15,
   "metadata": {
    "ExecuteTime": {
     "end_time": "2019-01-02T10:50:00.817798Z",
     "start_time": "2019-01-02T10:50:00.806169Z"
    }
   },
   "outputs": [],
   "source": [
    "df_age = df.age\n",
    "df_age.dropna(inplace= True)"
   ]
  },
  {
   "cell_type": "code",
   "execution_count": 16,
   "metadata": {
    "ExecuteTime": {
     "end_time": "2019-01-02T10:54:33.743051Z",
     "start_time": "2019-01-02T10:54:33.431888Z"
    }
   },
   "outputs": [
    {
     "data": {
      "image/png": "[encoded data removed]",
      "text/plain": [
       "<Figure size 576x576 with 1 Axes>"
      ]
     },
     "metadata": {
      "needs_background": "light"
     },
     "output_type": "display_data"
    }
   ],
   "source": [
    "plt.figure(figsize=(8,8))\n",
    "plt.hist(df_age, 50, alpha=0.9, ec='black')\n",
    "plt.xlabel(\"Age\", fontweight = 'bold', size = 12)\n",
    "plt.ylabel('Frequency', fontweight = 'bold', size = 12)\n",
    "plt.title(\"Histogram Plot: Citibike riders' age [May, 2015]\", fontweight = 'bold',size=13)\n",
    "plt.show()"
   ]
  },
  {
   "cell_type": "code",
   "execution_count": 17,
   "metadata": {
    "ExecuteTime": {
     "end_time": "2019-01-02T10:55:32.736746Z",
     "start_time": "2019-01-02T10:55:32.319928Z"
    }
   },
   "outputs": [
    {
     "name": "stdout",
     "output_type": "stream",
     "text": [
      "Mean: 38.74926173854593 Sigma: 11.458815771856012\n"
     ]
    },
    {
     "data": {
      "image/png": "[encoded data removed]",
      "text/plain": [
       "<Figure size 576x576 with 1 Axes>"
      ]
     },
     "metadata": {
      "needs_background": "light"
     },
     "output_type": "display_data"
    }
   ],
   "source": [
    "print ('Mean:', df.age.mean(), 'Sigma:', df.age.std())\n",
    "                                                                                            \n",
    "bins = np.arange(df.age.min(), df.age.max(), 1)\n",
    "\n",
    "plt.figure(figsize=(8,8))\n",
    "plt.hist(df.age, bins, label='Count', alpha = 0.9, ec='black')\n",
    "plt.title('Frequency v/s Age - Riders', fontweight = 'bold')\n",
    "plt.xlabel('Age', fontweight = 'bold')\n",
    "plt.ylabel('Frequency', fontweight = 'bold')\n",
    "plt.legend()\n",
    "plt.show()"
   ]
  },
  {
   "cell_type": "code",
   "execution_count": 18,
   "metadata": {
    "ExecuteTime": {
     "end_time": "2019-01-02T10:56:17.461023Z",
     "start_time": "2019-01-02T10:56:17.212453Z"
    }
   },
   "outputs": [
    {
     "data": {
      "image/png": "[encoded data removed]",
      "text/plain": [
       "<Figure size 432x288 with 1 Axes>"
      ]
     },
     "metadata": {
      "needs_background": "light"
     },
     "output_type": "display_data"
    }
   ],
   "source": [
    "bins = np.arange(10,80,5)\n",
    "plot = df.age.groupby(pd.cut(df.age, bins)).agg([count_nonzero])\\\n",
    ".plot(kind='bar', legend=True, title = 'Frequency v/s Age')"
   ]
  },
  {
   "cell_type": "markdown",
   "metadata": {},
   "source": [
    "#### Using the Normal Distribution\n",
    "\n",
    "Null hypothesis: The ages of citibike users are drawn from a Gaussian Distribution.\n",
    "- $H_0 => F_a - F_G = 0$\n",
    "\n",
    "Alternate Hypothesis: The ages of citibike users are not drawn from a Gaussian Distribution\n",
    "- $H_a => F_a - F_G != 0$\n",
    "\n",
    "Significance Level\n",
    "- Significance Level = 0.05 / 5%\n",
    "\n",
    "Descriptions\n",
    "- $F_a$ = F_Age\n",
    "- $F_G$ = F_Gaussian"
   ]
  },
  {
   "cell_type": "markdown",
   "metadata": {},
   "source": [
    "#### Using the KS-Test\n",
    "\n",
    "##### KS-Test with Normal Distribution\n",
    "- First entry is the observations that we are trying to determine the distribution of CDF is normal distribution here:\n",
    "- A standard normal will have a mean = 0\n",
    "- Standard Deviation = 1"
   ]
  },
  {
   "cell_type": "code",
   "execution_count": 32,
   "metadata": {
    "ExecuteTime": {
     "end_time": "2019-01-02T11:02:15.016085Z",
     "start_time": "2019-01-02T11:02:15.010459Z"
    }
   },
   "outputs": [
    {
     "data": {
      "text/plain": [
       "\u001b[0;31mSignature:\u001b[0m\n",
       "\u001b[0mscipy\u001b[0m\u001b[0;34m.\u001b[0m\u001b[0mstats\u001b[0m\u001b[0;34m.\u001b[0m\u001b[0mkstest\u001b[0m\u001b[0;34m(\u001b[0m\u001b[0;34m\u001b[0m\n",
       "\u001b[0;34m\u001b[0m    \u001b[0mrvs\u001b[0m\u001b[0;34m,\u001b[0m\u001b[0;34m\u001b[0m\n",
       "\u001b[0;34m\u001b[0m    \u001b[0mcdf\u001b[0m\u001b[0;34m,\u001b[0m\u001b[0;34m\u001b[0m\n",
       "\u001b[0;34m\u001b[0m    \u001b[0margs\u001b[0m\u001b[0;34m=\u001b[0m\u001b[0;34m(\u001b[0m\u001b[0;34m)\u001b[0m\u001b[0;34m,\u001b[0m\u001b[0;34m\u001b[0m\n",
       "\u001b[0;34m\u001b[0m    \u001b[0mN\u001b[0m\u001b[0;34m=\u001b[0m\u001b[0;36m20\u001b[0m\u001b[0;34m,\u001b[0m\u001b[0;34m\u001b[0m\n",
       "\u001b[0;34m\u001b[0m    \u001b[0malternative\u001b[0m\u001b[0;34m=\u001b[0m\u001b[0;34m'two-sided'\u001b[0m\u001b[0;34m,\u001b[0m\u001b[0;34m\u001b[0m\n",
       "\u001b[0;34m\u001b[0m    \u001b[0mmode\u001b[0m\u001b[0;34m=\u001b[0m\u001b[0;34m'approx'\u001b[0m\u001b[0;34m,\u001b[0m\u001b[0;34m\u001b[0m\n",
       "\u001b[0;34m\u001b[0m\u001b[0;34m)\u001b[0m\u001b[0;34m\u001b[0m\u001b[0;34m\u001b[0m\u001b[0m\n",
       "\u001b[0;31mDocstring:\u001b[0m\n",
       "Perform the Kolmogorov-Smirnov test for goodness of fit.\n",
       "\n",
       "This performs a test of the distribution F(x) of an observed\n",
       "random variable against a given distribution G(x). Under the null\n",
       "hypothesis the two distributions are identical, F(x)=G(x). The\n",
       "alternative hypothesis can be either 'two-sided' (default), 'less'\n",
       "or 'greater'. The KS test is only valid for continuous distributions.\n",
       "\n",
       "Parameters\n",
       "----------\n",
       "rvs : str, array or callable\n",
       "    If a string, it should be the name of a distribution in `scipy.stats`.\n",
       "    If an array, it should be a 1-D array of observations of random\n",
       "    variables.\n",
       "    If a callable, it should be a function to generate random variables;\n",
       "    it is required to have a keyword argument `size`.\n",
       "cdf : str or callable\n",
       "    If a string, it should be the name of a distribution in `scipy.stats`.\n",
       "    If `rvs` is a string then `cdf` can be False or the same as `rvs`.\n",
       "    If a callable, that callable is used to calculate the cdf.\n",
       "args : tuple, sequence, optional\n",
       "    Distribution parameters, used if `rvs` or `cdf` are strings.\n",
       "N : int, optional\n",
       "    Sample size if `rvs` is string or callable.  Default is 20.\n",
       "alternative : {'two-sided', 'less','greater'}, optional\n",
       "    Defines the alternative hypothesis (see explanation above).\n",
       "    Default is 'two-sided'.\n",
       "mode : 'approx' (default) or 'asymp', optional\n",
       "    Defines the distribution used for calculating the p-value.\n",
       "\n",
       "      - 'approx' : use approximation to exact distribution of test statistic\n",
       "      - 'asymp' : use asymptotic distribution of test statistic\n",
       "\n",
       "Returns\n",
       "-------\n",
       "statistic : float\n",
       "    KS test statistic, either D, D+ or D-.\n",
       "pvalue :  float\n",
       "    One-tailed or two-tailed p-value.\n",
       "\n",
       "Notes\n",
       "-----\n",
       "In the one-sided test, the alternative is that the empirical\n",
       "cumulative distribution function of the random variable is \"less\"\n",
       "or \"greater\" than the cumulative distribution function G(x) of the\n",
       "hypothesis, ``F(x)<=G(x)``, resp. ``F(x)>=G(x)``.\n",
       "\n",
       "Examples\n",
       "--------\n",
       ">>> from scipy import stats\n",
       "\n",
       ">>> x = np.linspace(-15, 15, 9)\n",
       ">>> stats.kstest(x, 'norm')\n",
       "(0.44435602715924361, 0.038850142705171065)\n",
       "\n",
       ">>> np.random.seed(987654321) # set random seed to get the same result\n",
       ">>> stats.kstest('norm', False, N=100)\n",
       "(0.058352892479417884, 0.88531190944151261)\n",
       "\n",
       "The above lines are equivalent to:\n",
       "\n",
       ">>> np.random.seed(987654321)\n",
       ">>> stats.kstest(stats.norm.rvs(size=100), 'norm')\n",
       "(0.058352892479417884, 0.88531190944151261)\n",
       "\n",
       "*Test against one-sided alternative hypothesis*\n",
       "\n",
       "Shift distribution to larger values, so that ``cdf_dgp(x) < norm.cdf(x)``:\n",
       "\n",
       ">>> np.random.seed(987654321)\n",
       ">>> x = stats.norm.rvs(loc=0.2, size=100)\n",
       ">>> stats.kstest(x,'norm', alternative = 'less')\n",
       "(0.12464329735846891, 0.040989164077641749)\n",
       "\n",
       "Reject equal distribution against alternative hypothesis: less\n",
       "\n",
       ">>> stats.kstest(x,'norm', alternative = 'greater')\n",
       "(0.0072115233216311081, 0.98531158590396395)\n",
       "\n",
       "Don't reject equal distribution against alternative hypothesis: greater\n",
       "\n",
       ">>> stats.kstest(x,'norm', mode='asymp')\n",
       "(0.12464329735846891, 0.08944488871182088)\n",
       "\n",
       "*Testing t distributed random variables against normal distribution*\n",
       "\n",
       "With 100 degrees of freedom the t distribution looks close to the normal\n",
       "distribution, and the K-S test does not reject the hypothesis that the\n",
       "sample came from the normal distribution:\n",
       "\n",
       ">>> np.random.seed(987654321)\n",
       ">>> stats.kstest(stats.t.rvs(100,size=100),'norm')\n",
       "(0.072018929165471257, 0.67630062862479168)\n",
       "\n",
       "With 3 degrees of freedom the t distribution looks sufficiently different\n",
       "from the normal distribution, that we can reject the hypothesis that the\n",
       "sample came from the normal distribution at the 10% level:\n",
       "\n",
       ">>> np.random.seed(987654321)\n",
       ">>> stats.kstest(stats.t.rvs(3,size=100),'norm')\n",
       "(0.131016895759829, 0.058826222555312224)\n",
       "\u001b[0;31mFile:\u001b[0m      ~/anaconda3/envs/P37/lib/python3.7/site-packages/scipy/stats/stats.py\n",
       "\u001b[0;31mType:\u001b[0m      function\n"
      ]
     },
     "metadata": {},
     "output_type": "display_data"
    }
   ],
   "source": [
    "#Check this before going to the next cell\n",
    "scipy.stats.kstest?"
   ]
  },
  {
   "cell_type": "code",
   "execution_count": 20,
   "metadata": {
    "ExecuteTime": {
     "end_time": "2019-01-02T11:02:19.630301Z",
     "start_time": "2019-01-02T11:02:19.538510Z"
    }
   },
   "outputs": [
    {
     "data": {
      "text/plain": [
       "KstestResult(statistic=0.10248543296647195, pvalue=0.0)"
      ]
     },
     "execution_count": 20,
     "metadata": {},
     "output_type": "execute_result"
    }
   ],
   "source": [
    "scipy.stats.kstest(df['age'].values,'norm', args=(df.age.mean(), df.age.std()))"
   ]
  },
  {
   "cell_type": "markdown",
   "metadata": {},
   "source": [
    "- Here, the p-value is coming up to 0.0\n",
    "- The significance value we have set is 0.05, hence we reject the Null Hypothesis that the distribution of the CitiBike users is drawn from the Normal/Gaussian Distribution"
   ]
  },
  {
   "cell_type": "markdown",
   "metadata": {},
   "source": [
    "#### Using the Chi-Square Test\n",
    "\n",
    "##### Chi-Square Test with Normal Distribution"
   ]
  },
  {
   "cell_type": "code",
   "execution_count": 21,
   "metadata": {
    "ExecuteTime": {
     "end_time": "2019-01-02T11:02:47.611516Z",
     "start_time": "2019-01-02T11:02:47.601482Z"
    }
   },
   "outputs": [
    {
     "data": {
      "text/plain": [
       "Power_divergenceResult(statistic=2691989.2279713918, pvalue=0.0)"
      ]
     },
     "execution_count": 21,
     "metadata": {},
     "output_type": "execute_result"
    }
   ],
   "source": [
    "scipy.stats.chisquare(df['age'].values)"
   ]
  },
  {
   "cell_type": "markdown",
   "metadata": {},
   "source": [
    "- Here, the p-value is coming up to 0.0\n",
    "- The significance value we have set is 0.05, hence we reject the Null Hypothesis that the distribution of the CitiBike users is drawn from the Normal/Gaussian Distribution\n",
    "- Also, the statistic shown here is a very high number which is close to infinite and which entails that the counting is stopped"
   ]
  },
  {
   "cell_type": "markdown",
   "metadata": {},
   "source": [
    "#### Using the Logistic Distribution\n",
    "\n",
    "Null hypothesis: The ages of citibike users are drawn from a Logistic Distribution.\n",
    "- $H_0 => F_a - F_L = 0$\n",
    "\n",
    "Alternate Hypothesis: The ages of citibike users are not drawn from a Logistic Distribution\n",
    "- $H_a => F_a - F_L != 0$\n",
    "\n",
    "\n",
    "Significance Level\n",
    "- Significance Level = 0.05 / 5%\n",
    "\n",
    "Descriptions\n",
    "- $F_a$ = F_Age\n",
    "- $F_L$ = F_Logistic"
   ]
  },
  {
   "cell_type": "markdown",
   "metadata": {},
   "source": [
    "#### Using Anderson-Darling Test\n",
    "\n",
    "##### Anderson-Darling Test with Logistic Distribution\n",
    "- Anderson-Darling test is for data coming from a particular distribution\n",
    "- Here we have used the Logistic Distribution\n",
    "- First input is the array of sample data that we want to determine the distribution of\n",
    "- Second input is the distribution that we are comparing the sample distribution to so as to find the good fit"
   ]
  },
  {
   "cell_type": "code",
   "execution_count": 22,
   "metadata": {
    "ExecuteTime": {
     "end_time": "2019-01-02T11:05:28.097093Z",
     "start_time": "2019-01-02T11:05:27.657974Z"
    }
   },
   "outputs": [
    {
     "data": {
      "text/plain": [
       "AndersonResult(statistic=10391.35783835745, critical_values=array([0.426, 0.563, 0.66 , 0.769, 0.906, 1.01 ]), significance_level=array([25. , 10. ,  5. ,  2.5,  1. ,  0.5]))"
      ]
     },
     "execution_count": 22,
     "metadata": {},
     "output_type": "execute_result"
    }
   ],
   "source": [
    "scipy.stats.anderson(df['age'].values, dist='logistic')"
   ]
  },
  {
   "cell_type": "markdown",
   "metadata": {},
   "source": [
    "- For this Anderson test I have obtained a statistic of a high number, which it is going to stop counting because it is too high. \n",
    "- My alpha is 0.05 which I have set as the significance level.\n",
    "- I am going to reject the H0 if it is above the third entry in the critical values -> 0.66. \n",
    "- We reject the null hypotheses that ages of citibike riders are drawn from the logistic distribution."
   ]
  },
  {
   "cell_type": "markdown",
   "metadata": {},
   "source": [
    "#### Using the KS-Test\n",
    "\n",
    "##### KS-Test with Logistic Distribution\n",
    "- First entry is (rvs) which is the observations that we are trying to determine the distribution of\n",
    "- CDF is logistic distribution here"
   ]
  },
  {
   "cell_type": "code",
   "execution_count": 23,
   "metadata": {
    "ExecuteTime": {
     "end_time": "2019-01-02T11:06:11.519599Z",
     "start_time": "2019-01-02T11:06:11.433657Z"
    }
   },
   "outputs": [
    {
     "data": {
      "text/plain": [
       "KstestResult(statistic=0.17781816774797352, pvalue=0.0)"
      ]
     },
     "execution_count": 23,
     "metadata": {},
     "output_type": "execute_result"
    }
   ],
   "source": [
    "scipy.stats.kstest(df['age'].values,'logistic', args=(df.age.mean(), df.age.std()))"
   ]
  },
  {
   "cell_type": "markdown",
   "metadata": {},
   "source": [
    "- Here, the p-value is coming up to 0.0\n",
    "- The significance value we have set is 0.05, hence we reject the Null Hypothesis that the distribution of the CitiBike users is drawn from the Logistic Distribution"
   ]
  },
  {
   "cell_type": "markdown",
   "metadata": {},
   "source": [
    "#### ----------------------------------------------------------------------------------------------------------------------------------------------------------------------"
   ]
  },
  {
   "cell_type": "markdown",
   "metadata": {},
   "source": [
    "### Visual Analyses\n",
    "- Visual Representation and Analysis"
   ]
  },
  {
   "cell_type": "markdown",
   "metadata": {},
   "source": [
    "#### IDEA\n",
    "- The average trip duration of the customer is more than that of the subscriber which indicates that a single time user tries to make the best use of his investment."
   ]
  },
  {
   "cell_type": "markdown",
   "metadata": {},
   "source": [
    "#### Null Hypothesis ($H_0$)\n",
    "The mean trip duration of single time user (customer) over a week is less than or equal to the mean trip duration of the subscribers over a week.\n",
    "- $H_0$ : T(customer) <= T(subscriber)"
   ]
  },
  {
   "cell_type": "markdown",
   "metadata": {},
   "source": [
    "#### Alternate Hypothesis ($H_a$)\n",
    "The mean trip duration of single time user (customer) over a week in more than the mean trip duration of the subscribers over a week\n",
    "- $H_a$: T(customer) > T(subscriber)"
   ]
  },
  {
   "cell_type": "markdown",
   "metadata": {
    "ExecuteTime": {
     "end_time": "2019-01-02T11:10:51.342389Z",
     "start_time": "2019-01-02T11:10:51.338696Z"
    }
   },
   "source": [
    "#### Significance Level\n",
    "- Significance level (α) = 0.05/5%"
   ]
  },
  {
   "cell_type": "code",
   "execution_count": 24,
   "metadata": {
    "ExecuteTime": {
     "end_time": "2019-01-02T11:11:19.159476Z",
     "start_time": "2019-01-02T11:11:19.154637Z"
    }
   },
   "outputs": [
    {
     "data": {
      "text/plain": [
       "'Wednesday'"
      ]
     },
     "execution_count": 24,
     "metadata": {},
     "output_type": "execute_result"
    }
   ],
   "source": [
    "import datetime \n",
    "import calendar\n",
    "\n",
    "my_date = datetime.datetime(2019, 1 , 2)\n",
    "calendar.day_name[my_date.weekday()]"
   ]
  },
  {
   "cell_type": "code",
   "execution_count": 25,
   "metadata": {
    "ExecuteTime": {
     "end_time": "2019-01-02T11:11:28.582337Z",
     "start_time": "2019-01-02T11:11:28.571102Z"
    }
   },
   "outputs": [
    {
     "name": "stdout",
     "output_type": "stream",
     "text": [
      "Populating the interactive namespace from numpy and matplotlib\n"
     ]
    }
   ],
   "source": [
    "from __future__  import print_function, division\n",
    "import pylab as pl\n",
    "import pandas as pd\n",
    "import numpy as np\n",
    "import os\n",
    "import scipy.stats as stats\n",
    "\n",
    "%pylab inline"
   ]
  },
  {
   "cell_type": "code",
   "execution_count": 26,
   "metadata": {
    "ExecuteTime": {
     "end_time": "2019-01-02T11:11:41.587453Z",
     "start_time": "2019-01-02T11:11:41.584855Z"
    }
   },
   "outputs": [],
   "source": [
    "datestring_2 = '201606'"
   ]
  },
  {
   "cell_type": "code",
   "execution_count": 33,
   "metadata": {
    "ExecuteTime": {
     "end_time": "2019-01-02T11:12:04.645365Z",
     "start_time": "2019-01-02T11:12:00.505852Z"
    }
   },
   "outputs": [
    {
     "data": {
      "text/html": [
       "<div>\n",
       "<style scoped>\n",
       "    .dataframe tbody tr th:only-of-type {\n",
       "        vertical-align: middle;\n",
       "    }\n",
       "\n",
       "    .dataframe tbody tr th {\n",
       "        vertical-align: top;\n",
       "    }\n",
       "\n",
       "    .dataframe thead th {\n",
       "        text-align: right;\n",
       "    }\n",
       "</style>\n",
       "<table border=\"1\" class=\"dataframe\">\n",
       "  <thead>\n",
       "    <tr style=\"text-align: right;\">\n",
       "      <th></th>\n",
       "      <th>tripduration</th>\n",
       "      <th>starttime</th>\n",
       "      <th>stoptime</th>\n",
       "      <th>start station id</th>\n",
       "      <th>start station name</th>\n",
       "      <th>start station latitude</th>\n",
       "      <th>start station longitude</th>\n",
       "      <th>end station id</th>\n",
       "      <th>end station name</th>\n",
       "      <th>end station latitude</th>\n",
       "      <th>end station longitude</th>\n",
       "      <th>bikeid</th>\n",
       "      <th>usertype</th>\n",
       "      <th>birth year</th>\n",
       "      <th>gender</th>\n",
       "    </tr>\n",
       "  </thead>\n",
       "  <tbody>\n",
       "    <tr>\n",
       "      <td>0</td>\n",
       "      <td>1470</td>\n",
       "      <td>6/1/2016 00:00:18</td>\n",
       "      <td>6/1/2016 00:24:48</td>\n",
       "      <td>380</td>\n",
       "      <td>W 4 St &amp; 7 Ave S</td>\n",
       "      <td>40.734011</td>\n",
       "      <td>-74.002939</td>\n",
       "      <td>3236</td>\n",
       "      <td>W 42 St &amp; Dyer Ave</td>\n",
       "      <td>40.758985</td>\n",
       "      <td>-73.993800</td>\n",
       "      <td>19859</td>\n",
       "      <td>Subscriber</td>\n",
       "      <td>1972.0</td>\n",
       "      <td>1</td>\n",
       "    </tr>\n",
       "    <tr>\n",
       "      <td>1</td>\n",
       "      <td>229</td>\n",
       "      <td>6/1/2016 00:00:20</td>\n",
       "      <td>6/1/2016 00:04:09</td>\n",
       "      <td>3092</td>\n",
       "      <td>Berry St &amp; N 8 St</td>\n",
       "      <td>40.719009</td>\n",
       "      <td>-73.958525</td>\n",
       "      <td>3103</td>\n",
       "      <td>N 11 St &amp; Wythe Ave</td>\n",
       "      <td>40.721533</td>\n",
       "      <td>-73.957824</td>\n",
       "      <td>16233</td>\n",
       "      <td>Subscriber</td>\n",
       "      <td>1967.0</td>\n",
       "      <td>1</td>\n",
       "    </tr>\n",
       "    <tr>\n",
       "      <td>2</td>\n",
       "      <td>344</td>\n",
       "      <td>6/1/2016 00:00:21</td>\n",
       "      <td>6/1/2016 00:06:06</td>\n",
       "      <td>449</td>\n",
       "      <td>W 52 St &amp; 9 Ave</td>\n",
       "      <td>40.764618</td>\n",
       "      <td>-73.987895</td>\n",
       "      <td>469</td>\n",
       "      <td>Broadway &amp; W 53 St</td>\n",
       "      <td>40.763441</td>\n",
       "      <td>-73.982681</td>\n",
       "      <td>22397</td>\n",
       "      <td>Subscriber</td>\n",
       "      <td>1989.0</td>\n",
       "      <td>1</td>\n",
       "    </tr>\n",
       "    <tr>\n",
       "      <td>3</td>\n",
       "      <td>1120</td>\n",
       "      <td>6/1/2016 00:00:28</td>\n",
       "      <td>6/1/2016 00:19:09</td>\n",
       "      <td>522</td>\n",
       "      <td>E 51 St &amp; Lexington Ave</td>\n",
       "      <td>40.757148</td>\n",
       "      <td>-73.972078</td>\n",
       "      <td>401</td>\n",
       "      <td>Allen St &amp; Rivington St</td>\n",
       "      <td>40.720196</td>\n",
       "      <td>-73.989978</td>\n",
       "      <td>16231</td>\n",
       "      <td>Subscriber</td>\n",
       "      <td>1991.0</td>\n",
       "      <td>1</td>\n",
       "    </tr>\n",
       "    <tr>\n",
       "      <td>4</td>\n",
       "      <td>229</td>\n",
       "      <td>6/1/2016 00:00:53</td>\n",
       "      <td>6/1/2016 00:04:42</td>\n",
       "      <td>335</td>\n",
       "      <td>Washington Pl &amp; Broadway</td>\n",
       "      <td>40.729039</td>\n",
       "      <td>-73.994046</td>\n",
       "      <td>285</td>\n",
       "      <td>Broadway &amp; E 14 St</td>\n",
       "      <td>40.734546</td>\n",
       "      <td>-73.990741</td>\n",
       "      <td>15400</td>\n",
       "      <td>Subscriber</td>\n",
       "      <td>1989.0</td>\n",
       "      <td>1</td>\n",
       "    </tr>\n",
       "  </tbody>\n",
       "</table>\n",
       "</div>"
      ],
      "text/plain": [
       "   tripduration          starttime           stoptime  start station id  \\\n",
       "0          1470  6/1/2016 00:00:18  6/1/2016 00:24:48               380   \n",
       "1           229  6/1/2016 00:00:20  6/1/2016 00:04:09              3092   \n",
       "2           344  6/1/2016 00:00:21  6/1/2016 00:06:06               449   \n",
       "3          1120  6/1/2016 00:00:28  6/1/2016 00:19:09               522   \n",
       "4           229  6/1/2016 00:00:53  6/1/2016 00:04:42               335   \n",
       "\n",
       "         start station name  start station latitude  start station longitude  \\\n",
       "0          W 4 St & 7 Ave S               40.734011               -74.002939   \n",
       "1         Berry St & N 8 St               40.719009               -73.958525   \n",
       "2           W 52 St & 9 Ave               40.764618               -73.987895   \n",
       "3   E 51 St & Lexington Ave               40.757148               -73.972078   \n",
       "4  Washington Pl & Broadway               40.729039               -73.994046   \n",
       "\n",
       "   end station id         end station name  end station latitude  \\\n",
       "0            3236       W 42 St & Dyer Ave             40.758985   \n",
       "1            3103      N 11 St & Wythe Ave             40.721533   \n",
       "2             469       Broadway & W 53 St             40.763441   \n",
       "3             401  Allen St & Rivington St             40.720196   \n",
       "4             285       Broadway & E 14 St             40.734546   \n",
       "\n",
       "   end station longitude  bikeid    usertype  birth year  gender  \n",
       "0             -73.993800   19859  Subscriber      1972.0       1  \n",
       "1             -73.957824   16233  Subscriber      1967.0       1  \n",
       "2             -73.982681   22397  Subscriber      1989.0       1  \n",
       "3             -73.989978   16231  Subscriber      1991.0       1  \n",
       "4             -73.990741   15400  Subscriber      1989.0       1  "
      ]
     },
     "execution_count": 33,
     "metadata": {},
     "output_type": "execute_result"
    }
   ],
   "source": [
    "df_2 = pd.read_csv(\"sample_datasets/\" + datestring_2 + '-citibike-tripdata.csv')\n",
    "df_2.head()"
   ]
  },
  {
   "cell_type": "code",
   "execution_count": 34,
   "metadata": {
    "ExecuteTime": {
     "end_time": "2019-01-02T11:19:39.996872Z",
     "start_time": "2019-01-02T11:15:25.851886Z"
    }
   },
   "outputs": [],
   "source": [
    "df_2['date'] = pd.to_datetime(df_2['starttime'])"
   ]
  },
  {
   "cell_type": "code",
   "execution_count": 35,
   "metadata": {
    "ExecuteTime": {
     "end_time": "2019-01-02T11:30:44.483268Z",
     "start_time": "2019-01-02T11:30:44.479002Z"
    }
   },
   "outputs": [
    {
     "data": {
      "text/plain": [
       "Index(['tripduration', 'starttime', 'stoptime', 'start station id',\n",
       "       'start station name', 'start station latitude',\n",
       "       'start station longitude', 'end station id', 'end station name',\n",
       "       'end station latitude', 'end station longitude', 'bikeid', 'usertype',\n",
       "       'birth year', 'gender', 'date'],\n",
       "      dtype='object')"
      ]
     },
     "execution_count": 35,
     "metadata": {},
     "output_type": "execute_result"
    }
   ],
   "source": [
    "df_2.columns"
   ]
  },
  {
   "cell_type": "code",
   "execution_count": 36,
   "metadata": {
    "ExecuteTime": {
     "end_time": "2019-01-02T11:30:45.181631Z",
     "start_time": "2019-01-02T11:30:45.159048Z"
    }
   },
   "outputs": [],
   "source": [
    "df_2.drop(['starttime','stoptime','start station id',\n",
    "       'start station name','start station latitude',\n",
    "       'start station longitude','end station id','end station name',\n",
    "       'end station latitude','end station longitude','bikeid',\n",
    "       'birth year','gender'], axis = 1, inplace = True)"
   ]
  },
  {
   "cell_type": "code",
   "execution_count": 37,
   "metadata": {
    "ExecuteTime": {
     "end_time": "2019-01-02T11:30:46.056537Z",
     "start_time": "2019-01-02T11:30:46.046405Z"
    }
   },
   "outputs": [
    {
     "data": {
      "text/html": [
       "<div>\n",
       "<style scoped>\n",
       "    .dataframe tbody tr th:only-of-type {\n",
       "        vertical-align: middle;\n",
       "    }\n",
       "\n",
       "    .dataframe tbody tr th {\n",
       "        vertical-align: top;\n",
       "    }\n",
       "\n",
       "    .dataframe thead th {\n",
       "        text-align: right;\n",
       "    }\n",
       "</style>\n",
       "<table border=\"1\" class=\"dataframe\">\n",
       "  <thead>\n",
       "    <tr style=\"text-align: right;\">\n",
       "      <th></th>\n",
       "      <th>tripduration</th>\n",
       "      <th>usertype</th>\n",
       "      <th>date</th>\n",
       "    </tr>\n",
       "  </thead>\n",
       "  <tbody>\n",
       "    <tr>\n",
       "      <td>0</td>\n",
       "      <td>1470</td>\n",
       "      <td>Subscriber</td>\n",
       "      <td>2016-06-01 00:00:18</td>\n",
       "    </tr>\n",
       "    <tr>\n",
       "      <td>1</td>\n",
       "      <td>229</td>\n",
       "      <td>Subscriber</td>\n",
       "      <td>2016-06-01 00:00:20</td>\n",
       "    </tr>\n",
       "    <tr>\n",
       "      <td>2</td>\n",
       "      <td>344</td>\n",
       "      <td>Subscriber</td>\n",
       "      <td>2016-06-01 00:00:21</td>\n",
       "    </tr>\n",
       "    <tr>\n",
       "      <td>3</td>\n",
       "      <td>1120</td>\n",
       "      <td>Subscriber</td>\n",
       "      <td>2016-06-01 00:00:28</td>\n",
       "    </tr>\n",
       "    <tr>\n",
       "      <td>4</td>\n",
       "      <td>229</td>\n",
       "      <td>Subscriber</td>\n",
       "      <td>2016-06-01 00:00:53</td>\n",
       "    </tr>\n",
       "  </tbody>\n",
       "</table>\n",
       "</div>"
      ],
      "text/plain": [
       "   tripduration    usertype                date\n",
       "0          1470  Subscriber 2016-06-01 00:00:18\n",
       "1           229  Subscriber 2016-06-01 00:00:20\n",
       "2           344  Subscriber 2016-06-01 00:00:21\n",
       "3          1120  Subscriber 2016-06-01 00:00:28\n",
       "4           229  Subscriber 2016-06-01 00:00:53"
      ]
     },
     "execution_count": 37,
     "metadata": {},
     "output_type": "execute_result"
    }
   ],
   "source": [
    "df_2.head()"
   ]
  },
  {
   "cell_type": "code",
   "execution_count": 38,
   "metadata": {
    "ExecuteTime": {
     "end_time": "2019-01-02T11:30:46.519366Z",
     "start_time": "2019-01-02T11:30:46.406542Z"
    }
   },
   "outputs": [
    {
     "data": {
      "text/html": [
       "<div>\n",
       "<style scoped>\n",
       "    .dataframe tbody tr th:only-of-type {\n",
       "        vertical-align: middle;\n",
       "    }\n",
       "\n",
       "    .dataframe tbody tr th {\n",
       "        vertical-align: top;\n",
       "    }\n",
       "\n",
       "    .dataframe thead th {\n",
       "        text-align: right;\n",
       "    }\n",
       "</style>\n",
       "<table border=\"1\" class=\"dataframe\">\n",
       "  <thead>\n",
       "    <tr style=\"text-align: right;\">\n",
       "      <th></th>\n",
       "      <th>tripduration</th>\n",
       "    </tr>\n",
       "  </thead>\n",
       "  <tbody>\n",
       "    <tr>\n",
       "      <td>count</td>\n",
       "      <td>1.460318e+06</td>\n",
       "    </tr>\n",
       "    <tr>\n",
       "      <td>mean</td>\n",
       "      <td>9.897580e+02</td>\n",
       "    </tr>\n",
       "    <tr>\n",
       "      <td>std</td>\n",
       "      <td>7.589179e+03</td>\n",
       "    </tr>\n",
       "    <tr>\n",
       "      <td>min</td>\n",
       "      <td>6.100000e+01</td>\n",
       "    </tr>\n",
       "    <tr>\n",
       "      <td>25%</td>\n",
       "      <td>4.050000e+02</td>\n",
       "    </tr>\n",
       "    <tr>\n",
       "      <td>50%</td>\n",
       "      <td>6.760000e+02</td>\n",
       "    </tr>\n",
       "    <tr>\n",
       "      <td>75%</td>\n",
       "      <td>1.143000e+03</td>\n",
       "    </tr>\n",
       "    <tr>\n",
       "      <td>max</td>\n",
       "      <td>3.129291e+06</td>\n",
       "    </tr>\n",
       "  </tbody>\n",
       "</table>\n",
       "</div>"
      ],
      "text/plain": [
       "       tripduration\n",
       "count  1.460318e+06\n",
       "mean   9.897580e+02\n",
       "std    7.589179e+03\n",
       "min    6.100000e+01\n",
       "25%    4.050000e+02\n",
       "50%    6.760000e+02\n",
       "75%    1.143000e+03\n",
       "max    3.129291e+06"
      ]
     },
     "execution_count": 38,
     "metadata": {},
     "output_type": "execute_result"
    }
   ],
   "source": [
    "df_2.describe()"
   ]
  },
  {
   "cell_type": "markdown",
   "metadata": {},
   "source": [
    "- A bird's eye view on how the two usertype's are related in the bigger scope of things"
   ]
  },
  {
   "cell_type": "code",
   "execution_count": 39,
   "metadata": {
    "ExecuteTime": {
     "end_time": "2019-01-02T11:37:26.654734Z",
     "start_time": "2019-01-02T11:37:16.972915Z"
    }
   },
   "outputs": [
    {
     "data": {
      "text/plain": [
       "<matplotlib.axes._subplots.AxesSubplot at 0x1c194ed4d0>"
      ]
     },
     "execution_count": 39,
     "metadata": {},
     "output_type": "execute_result"
    },
    {
     "data": {
      "image/png": "[encoded data removed]",
      "text/plain": [
       "<Figure size 432x288 with 1 Axes>"
      ]
     },
     "metadata": {
      "needs_background": "light"
     },
     "output_type": "display_data"
    }
   ],
   "source": [
    "s = 60\n",
    "\n",
    "subs = (df_2[\"tripduration\"][df_2[\"usertype\"] == \"Subscriber\"])  # blue\n",
    "cust = (df_2[\"tripduration\"][df_2[\"usertype\"] == \"Customer\"])    # green\n",
    "\n",
    "subs.plot(kind = 'hist', ec='black', alpha = 0.9, figsize=(6,4))\n",
    "cust.plot(kind = 'hist', ec='black', alpha = 0.9, figsize=(6,4))"
   ]
  },
  {
   "cell_type": "code",
   "execution_count": 40,
   "metadata": {
    "ExecuteTime": {
     "end_time": "2019-01-02T11:45:40.476394Z",
     "start_time": "2019-01-02T11:45:40.245233Z"
    }
   },
   "outputs": [
    {
     "data": {
      "text/plain": [
       "Text(-0.5, -450, 'Figure : Number of Customers/Subscribers')"
      ]
     },
     "execution_count": 40,
     "metadata": {},
     "output_type": "execute_result"
    },
    {
     "data": {
      "text/plain": [
       "<Figure size 360x360 with 0 Axes>"
      ]
     },
     "metadata": {},
     "output_type": "display_data"
    },
    {
     "data": {
      "image/png": "[encoded data removed]",
      "text/plain": [
       "<Figure size 360x360 with 1 Axes>"
      ]
     },
     "metadata": {
      "needs_background": "light"
     },
     "output_type": "display_data"
    }
   ],
   "source": [
    "fig=pl.figure(figsize(5,5))\n",
    "plotted = df_2.groupby(['usertype']).mean()\n",
    "plotted.plot(kind='bar',rot=360, ec='black', alpha = 0.9)\n",
    "pl.xlabel('User Types')\n",
    "pl.ylabel('Average Trip Duration')\n",
    "pl.title('Average Trip Duration for different User Types',fontsize = 10, fontweight = 'bold')\n",
    "pl.text(-0.5,-450, 'Figure : Number of Customers/Subscribers',fontsize = 10, fontweight = 'bold')"
   ]
  },
  {
   "cell_type": "markdown",
   "metadata": {},
   "source": [
    "- The average trip duration for the Customer is more than the Subscriber.\n",
    "- The reason we will prove is due to the fact that the customer tries to maximize the use of citibikes."
   ]
  },
  {
   "cell_type": "code",
   "execution_count": 41,
   "metadata": {
    "ExecuteTime": {
     "end_time": "2019-01-02T11:38:19.747644Z",
     "start_time": "2019-01-02T11:38:19.297143Z"
    }
   },
   "outputs": [
    {
     "data": {
      "text/html": [
       "<div>\n",
       "<style scoped>\n",
       "    .dataframe tbody tr th:only-of-type {\n",
       "        vertical-align: middle;\n",
       "    }\n",
       "\n",
       "    .dataframe tbody tr th {\n",
       "        vertical-align: top;\n",
       "    }\n",
       "\n",
       "    .dataframe thead th {\n",
       "        text-align: right;\n",
       "    }\n",
       "</style>\n",
       "<table border=\"1\" class=\"dataframe\">\n",
       "  <thead>\n",
       "    <tr style=\"text-align: right;\">\n",
       "      <th></th>\n",
       "      <th>tripduration</th>\n",
       "    </tr>\n",
       "    <tr>\n",
       "      <th>date</th>\n",
       "      <th></th>\n",
       "    </tr>\n",
       "  </thead>\n",
       "  <tbody>\n",
       "    <tr>\n",
       "      <td>0</td>\n",
       "      <td>829.153867</td>\n",
       "    </tr>\n",
       "    <tr>\n",
       "      <td>1</td>\n",
       "      <td>816.969227</td>\n",
       "    </tr>\n",
       "    <tr>\n",
       "      <td>2</td>\n",
       "      <td>861.103150</td>\n",
       "    </tr>\n",
       "    <tr>\n",
       "      <td>3</td>\n",
       "      <td>819.571240</td>\n",
       "    </tr>\n",
       "    <tr>\n",
       "      <td>4</td>\n",
       "      <td>842.312846</td>\n",
       "    </tr>\n",
       "    <tr>\n",
       "      <td>5</td>\n",
       "      <td>919.327838</td>\n",
       "    </tr>\n",
       "    <tr>\n",
       "      <td>6</td>\n",
       "      <td>911.917002</td>\n",
       "    </tr>\n",
       "  </tbody>\n",
       "</table>\n",
       "</div>"
      ],
      "text/plain": [
       "      tripduration\n",
       "date              \n",
       "0       829.153867\n",
       "1       816.969227\n",
       "2       861.103150\n",
       "3       819.571240\n",
       "4       842.312846\n",
       "5       919.327838\n",
       "6       911.917002"
      ]
     },
     "execution_count": 41,
     "metadata": {},
     "output_type": "execute_result"
    }
   ],
   "source": [
    "subscriber = df_2['tripduration'][df_2['usertype'] == 'Subscriber'].groupby([df_2['date'].dt.weekday ]).mean()\n",
    "customer = df_2['tripduration'][df_2['usertype'] == 'Customer'].groupby([df_2['date'].dt.weekday ]).mean()\n",
    "subscriber = subscriber.to_frame()\n",
    "customer = customer.to_frame()\n",
    "subscriber"
   ]
  },
  {
   "cell_type": "code",
   "execution_count": 42,
   "metadata": {
    "ExecuteTime": {
     "end_time": "2019-01-02T11:39:05.363187Z",
     "start_time": "2019-01-02T11:39:05.044129Z"
    }
   },
   "outputs": [
    {
     "data": {
      "text/plain": [
       "Text(0, -300, 'Figure : Average Trip Duration of Customers/Subscribers plotted against each other')"
      ]
     },
     "execution_count": 42,
     "metadata": {},
     "output_type": "execute_result"
    },
    {
     "data": {
      "text/plain": [
       "<Figure size 576x576 with 0 Axes>"
      ]
     },
     "metadata": {},
     "output_type": "display_data"
    },
    {
     "data": {
      "image/png": "[encoded data removed]",
      "text/plain": [
       "<Figure size 576x576 with 1 Axes>"
      ]
     },
     "metadata": {
      "needs_background": "light"
     },
     "output_type": "display_data"
    }
   ],
   "source": [
    "fig=pl.figure(figsize(8,8))\n",
    "fig, ax = pl.subplots()\n",
    "width = 0.35  \n",
    "\n",
    "rects1 = ax.bar(subscriber.index.values , subscriber.tripduration, width, color='r')\n",
    "rects2 = ax.bar(customer.index.values + width, customer.tripduration, width, color='y')\n",
    "\n",
    "ax.set_xlabel('Days of the week')\n",
    "ax.set_ylabel('Average Trip Duration')\n",
    "ax.set_title('Average Trip Duration per usertype in a selected week', fontsize = 14, fontweight = 'bold')\n",
    "ax.set_xticks(customer.index.values + width)\n",
    "ax.xaxis.set_ticklabels(['Mon','Tue','Wed','Thu','Fri','Sat','Sun'], fontsize=10)\n",
    "ax.legend((rects1[0], rects2[0]), ('Subscriber', 'Customer'), loc = 'upper right')\n",
    "ax.text(0,-300, 'Figure : Average Trip Duration of Customers/Subscribers plotted against each other',\\\n",
    "        fontsize = 10, fontweight = 'bold')"
   ]
  },
  {
   "cell_type": "code",
   "execution_count": 43,
   "metadata": {
    "ExecuteTime": {
     "end_time": "2019-01-02T11:42:09.596668Z",
     "start_time": "2019-01-02T11:42:09.490294Z"
    }
   },
   "outputs": [
    {
     "data": {
      "text/html": [
       "<div>\n",
       "<style scoped>\n",
       "    .dataframe tbody tr th:only-of-type {\n",
       "        vertical-align: middle;\n",
       "    }\n",
       "\n",
       "    .dataframe tbody tr th {\n",
       "        vertical-align: top;\n",
       "    }\n",
       "\n",
       "    .dataframe thead th {\n",
       "        text-align: right;\n",
       "    }\n",
       "</style>\n",
       "<table border=\"1\" class=\"dataframe\">\n",
       "  <thead>\n",
       "    <tr style=\"text-align: right;\">\n",
       "      <th></th>\n",
       "      <th>tripduration</th>\n",
       "      <th>usertype</th>\n",
       "      <th>date</th>\n",
       "    </tr>\n",
       "  </thead>\n",
       "  <tbody>\n",
       "    <tr>\n",
       "      <td>0</td>\n",
       "      <td>1470</td>\n",
       "      <td>Subscriber</td>\n",
       "      <td>2016-06-01 00:00:18</td>\n",
       "    </tr>\n",
       "    <tr>\n",
       "      <td>1</td>\n",
       "      <td>229</td>\n",
       "      <td>Subscriber</td>\n",
       "      <td>2016-06-01 00:00:20</td>\n",
       "    </tr>\n",
       "    <tr>\n",
       "      <td>2</td>\n",
       "      <td>344</td>\n",
       "      <td>Subscriber</td>\n",
       "      <td>2016-06-01 00:00:21</td>\n",
       "    </tr>\n",
       "    <tr>\n",
       "      <td>3</td>\n",
       "      <td>1120</td>\n",
       "      <td>Subscriber</td>\n",
       "      <td>2016-06-01 00:00:28</td>\n",
       "    </tr>\n",
       "    <tr>\n",
       "      <td>4</td>\n",
       "      <td>229</td>\n",
       "      <td>Subscriber</td>\n",
       "      <td>2016-06-01 00:00:53</td>\n",
       "    </tr>\n",
       "    <tr>\n",
       "      <td>34</td>\n",
       "      <td>1406</td>\n",
       "      <td>Customer</td>\n",
       "      <td>2016-06-01 00:05:07</td>\n",
       "    </tr>\n",
       "    <tr>\n",
       "      <td>39</td>\n",
       "      <td>1476</td>\n",
       "      <td>Customer</td>\n",
       "      <td>2016-06-01 00:05:23</td>\n",
       "    </tr>\n",
       "    <tr>\n",
       "      <td>52</td>\n",
       "      <td>1458</td>\n",
       "      <td>Customer</td>\n",
       "      <td>2016-06-01 00:07:02</td>\n",
       "    </tr>\n",
       "    <tr>\n",
       "      <td>56</td>\n",
       "      <td>1432</td>\n",
       "      <td>Customer</td>\n",
       "      <td>2016-06-01 00:07:21</td>\n",
       "    </tr>\n",
       "    <tr>\n",
       "      <td>59</td>\n",
       "      <td>1145</td>\n",
       "      <td>Customer</td>\n",
       "      <td>2016-06-01 00:07:51</td>\n",
       "    </tr>\n",
       "  </tbody>\n",
       "</table>\n",
       "</div>"
      ],
      "text/plain": [
       "    tripduration    usertype                date\n",
       "0           1470  Subscriber 2016-06-01 00:00:18\n",
       "1            229  Subscriber 2016-06-01 00:00:20\n",
       "2            344  Subscriber 2016-06-01 00:00:21\n",
       "3           1120  Subscriber 2016-06-01 00:00:28\n",
       "4            229  Subscriber 2016-06-01 00:00:53\n",
       "34          1406    Customer 2016-06-01 00:05:07\n",
       "39          1476    Customer 2016-06-01 00:05:23\n",
       "52          1458    Customer 2016-06-01 00:07:02\n",
       "56          1432    Customer 2016-06-01 00:07:21\n",
       "59          1145    Customer 2016-06-01 00:07:51"
      ]
     },
     "execution_count": 43,
     "metadata": {},
     "output_type": "execute_result"
    }
   ],
   "source": [
    "dataset = df_2.groupby(['usertype'])\n",
    "dataset.head()"
   ]
  },
  {
   "cell_type": "code",
   "execution_count": 44,
   "metadata": {
    "ExecuteTime": {
     "end_time": "2019-01-02T11:42:26.466928Z",
     "start_time": "2019-01-02T11:42:26.390256Z"
    }
   },
   "outputs": [
    {
     "data": {
      "text/html": [
       "<div>\n",
       "<style scoped>\n",
       "    .dataframe tbody tr th:only-of-type {\n",
       "        vertical-align: middle;\n",
       "    }\n",
       "\n",
       "    .dataframe tbody tr th {\n",
       "        vertical-align: top;\n",
       "    }\n",
       "\n",
       "    .dataframe thead th {\n",
       "        text-align: right;\n",
       "    }\n",
       "</style>\n",
       "<table border=\"1\" class=\"dataframe\">\n",
       "  <thead>\n",
       "    <tr style=\"text-align: right;\">\n",
       "      <th></th>\n",
       "      <th>tripduration</th>\n",
       "    </tr>\n",
       "    <tr>\n",
       "      <th>usertype</th>\n",
       "      <th></th>\n",
       "    </tr>\n",
       "  </thead>\n",
       "  <tbody>\n",
       "    <tr>\n",
       "      <td>Customer</td>\n",
       "      <td>2152.122233</td>\n",
       "    </tr>\n",
       "    <tr>\n",
       "      <td>Subscriber</td>\n",
       "      <td>849.905440</td>\n",
       "    </tr>\n",
       "  </tbody>\n",
       "</table>\n",
       "</div>"
      ],
      "text/plain": [
       "            tripduration\n",
       "usertype                \n",
       "Customer     2152.122233\n",
       "Subscriber    849.905440"
      ]
     },
     "execution_count": 44,
     "metadata": {},
     "output_type": "execute_result"
    }
   ],
   "source": [
    "p = df_2.groupby(['usertype']).mean()\n",
    "p.head()"
   ]
  },
  {
   "cell_type": "code",
   "execution_count": 45,
   "metadata": {
    "ExecuteTime": {
     "end_time": "2019-01-02T11:42:33.689697Z",
     "start_time": "2019-01-02T11:42:33.601419Z"
    }
   },
   "outputs": [
    {
     "data": {
      "text/html": [
       "<div>\n",
       "<style scoped>\n",
       "    .dataframe tbody tr th:only-of-type {\n",
       "        vertical-align: middle;\n",
       "    }\n",
       "\n",
       "    .dataframe tbody tr th {\n",
       "        vertical-align: top;\n",
       "    }\n",
       "\n",
       "    .dataframe thead th {\n",
       "        text-align: right;\n",
       "    }\n",
       "</style>\n",
       "<table border=\"1\" class=\"dataframe\">\n",
       "  <thead>\n",
       "    <tr style=\"text-align: right;\">\n",
       "      <th></th>\n",
       "      <th>tripduration</th>\n",
       "    </tr>\n",
       "    <tr>\n",
       "      <th>usertype</th>\n",
       "      <th></th>\n",
       "    </tr>\n",
       "  </thead>\n",
       "  <tbody>\n",
       "    <tr>\n",
       "      <td>Customer</td>\n",
       "      <td>16261.379406</td>\n",
       "    </tr>\n",
       "    <tr>\n",
       "      <td>Subscriber</td>\n",
       "      <td>5703.300908</td>\n",
       "    </tr>\n",
       "  </tbody>\n",
       "</table>\n",
       "</div>"
      ],
      "text/plain": [
       "            tripduration\n",
       "usertype                \n",
       "Customer    16261.379406\n",
       "Subscriber   5703.300908"
      ]
     },
     "execution_count": 45,
     "metadata": {},
     "output_type": "execute_result"
    }
   ],
   "source": [
    "std_p = df_2.groupby(['usertype']).std()\n",
    "std_p.head()"
   ]
  },
  {
   "cell_type": "code",
   "execution_count": 46,
   "metadata": {
    "ExecuteTime": {
     "end_time": "2019-01-02T11:42:39.788110Z",
     "start_time": "2019-01-02T11:42:39.567303Z"
    }
   },
   "outputs": [],
   "source": [
    "# Calculating means\n",
    "subscriber = df_2['tripduration'][df_2['usertype'] == 'Subscriber'].mean()\n",
    "customer = df_2['tripduration'][df_2['usertype'] == 'Customer'].mean()"
   ]
  },
  {
   "cell_type": "code",
   "execution_count": 47,
   "metadata": {
    "ExecuteTime": {
     "end_time": "2019-01-02T11:42:47.851592Z",
     "start_time": "2019-01-02T11:42:47.616386Z"
    }
   },
   "outputs": [
    {
     "data": {
      "text/plain": [
       "False"
      ]
     },
     "execution_count": 47,
     "metadata": {},
     "output_type": "execute_result"
    }
   ],
   "source": [
    "# Checking for equal standard deviation\n",
    "sub_std = df_2['tripduration'][df_2['usertype'] == 'Subscriber'].std()\n",
    "cus_std = df_2['tripduration'][df_2['usertype'] == 'Customer'].std()\n",
    "sub_std == cus_std"
   ]
  },
  {
   "cell_type": "code",
   "execution_count": 48,
   "metadata": {
    "ExecuteTime": {
     "end_time": "2019-01-02T11:43:07.656003Z",
     "start_time": "2019-01-02T11:43:07.127957Z"
    }
   },
   "outputs": [
    {
     "data": {
      "text/html": [
       "<div>\n",
       "<style scoped>\n",
       "    .dataframe tbody tr th:only-of-type {\n",
       "        vertical-align: middle;\n",
       "    }\n",
       "\n",
       "    .dataframe tbody tr th {\n",
       "        vertical-align: top;\n",
       "    }\n",
       "\n",
       "    .dataframe thead th {\n",
       "        text-align: right;\n",
       "    }\n",
       "</style>\n",
       "<table border=\"1\" class=\"dataframe\">\n",
       "  <thead>\n",
       "    <tr style=\"text-align: right;\">\n",
       "      <th></th>\n",
       "      <th>tripduration</th>\n",
       "    </tr>\n",
       "    <tr>\n",
       "      <th>date</th>\n",
       "      <th></th>\n",
       "    </tr>\n",
       "  </thead>\n",
       "  <tbody>\n",
       "    <tr>\n",
       "      <td>0</td>\n",
       "      <td>930.807704</td>\n",
       "    </tr>\n",
       "    <tr>\n",
       "      <td>1</td>\n",
       "      <td>892.920660</td>\n",
       "    </tr>\n",
       "    <tr>\n",
       "      <td>2</td>\n",
       "      <td>942.399714</td>\n",
       "    </tr>\n",
       "    <tr>\n",
       "      <td>3</td>\n",
       "      <td>902.188451</td>\n",
       "    </tr>\n",
       "    <tr>\n",
       "      <td>4</td>\n",
       "      <td>970.449934</td>\n",
       "    </tr>\n",
       "    <tr>\n",
       "      <td>5</td>\n",
       "      <td>1223.579789</td>\n",
       "    </tr>\n",
       "    <tr>\n",
       "      <td>6</td>\n",
       "      <td>1192.574404</td>\n",
       "    </tr>\n",
       "  </tbody>\n",
       "</table>\n",
       "</div>"
      ],
      "text/plain": [
       "      tripduration\n",
       "date              \n",
       "0       930.807704\n",
       "1       892.920660\n",
       "2       942.399714\n",
       "3       902.188451\n",
       "4       970.449934\n",
       "5      1223.579789\n",
       "6      1192.574404"
      ]
     },
     "execution_count": 48,
     "metadata": {},
     "output_type": "execute_result"
    }
   ],
   "source": [
    "sub = df_2['tripduration'][df_2['usertype'] == 'Subscriber'].groupby([df_2['date'].dt.weekday ]).mean()\n",
    "cus = df_2['tripduration'][df_2['usertype'] == 'Customer'].groupby([df_2['date'].dt.weekday ]).mean()\n",
    "total = df_2['tripduration'].groupby([df_2['date'].dt.weekday ]).mean()\n",
    "sub = sub.to_frame()\n",
    "cus = cus.to_frame()\n",
    "total = total.to_frame()\n",
    "total"
   ]
  },
  {
   "cell_type": "code",
   "execution_count": 49,
   "metadata": {
    "ExecuteTime": {
     "end_time": "2019-01-02T11:43:16.935353Z",
     "start_time": "2019-01-02T11:43:16.927429Z"
    }
   },
   "outputs": [
    {
     "data": {
      "text/plain": [
       "Ttest_indResult(statistic=array([-43.70336847]), pvalue=array([4.77027351e-13]))"
      ]
     },
     "execution_count": 49,
     "metadata": {},
     "output_type": "execute_result"
    }
   ],
   "source": [
    "#T-Test\n",
    "stats.ttest_ind(sub, cus, equal_var= False)"
   ]
  },
  {
   "cell_type": "markdown",
   "metadata": {
    "ExecuteTime": {
     "end_time": "2019-01-02T11:43:23.715315Z",
     "start_time": "2019-01-02T11:43:23.711254Z"
    }
   },
   "source": [
    "- Since p value is less than 5% we can reject the null hypothesis"
   ]
  },
  {
   "cell_type": "code",
   "execution_count": 50,
   "metadata": {
    "ExecuteTime": {
     "end_time": "2019-01-02T11:43:30.385298Z",
     "start_time": "2019-01-02T11:43:30.375857Z"
    }
   },
   "outputs": [],
   "source": [
    "# Refered https://github.com/AllenDowney/CompStats/blob/master/effect_size.ipynb \n",
    "# Concept reference: http://www.leeds.ac.uk/educol/documents/00002182.htm\n",
    "\n",
    "def CohenEffectSize(group1, group2):\n",
    "    \"\"\"Compute Cohen's d.\n",
    "\n",
    "    group1: Series or NumPy array\n",
    "    group2: Series or NumPy array\n",
    "\n",
    "    returns: float\n",
    "    \"\"\"\n",
    "    diff = group1.mean() - group2.mean()\n",
    "\n",
    "    n1, n2 = len(group1), len(group2)\n",
    "    var1 = group1.var()\n",
    "    var2 = group2.var()\n",
    "\n",
    "    pooled_var = (n1 * var1 + n2 * var2) / (n1 + n2)\n",
    "    d = diff / numpy.sqrt(pooled_var)\n",
    "    return d"
   ]
  },
  {
   "cell_type": "code",
   "execution_count": 51,
   "metadata": {
    "ExecuteTime": {
     "end_time": "2019-01-02T11:43:33.476089Z",
     "start_time": "2019-01-02T11:43:33.471598Z"
    }
   },
   "outputs": [],
   "source": [
    "effect_size = CohenEffectSize(cus, sub)"
   ]
  },
  {
   "cell_type": "code",
   "execution_count": 52,
   "metadata": {
    "ExecuteTime": {
     "end_time": "2019-01-02T11:43:34.891762Z",
     "start_time": "2019-01-02T11:43:34.886558Z"
    }
   },
   "outputs": [
    {
     "data": {
      "text/plain": [
       "23.36043306527813"
      ]
     },
     "execution_count": 52,
     "metadata": {},
     "output_type": "execute_result"
    }
   ],
   "source": [
    "effect_size[0]"
   ]
  },
  {
   "cell_type": "markdown",
   "metadata": {
    "ExecuteTime": {
     "end_time": "2019-01-02T11:43:40.458947Z",
     "start_time": "2019-01-02T11:43:40.455079Z"
    }
   },
   "source": [
    "- Here we notice that the size of the difference between the samples is really large"
   ]
  },
  {
   "cell_type": "code",
   "execution_count": 53,
   "metadata": {
    "ExecuteTime": {
     "end_time": "2019-01-02T11:43:52.554309Z",
     "start_time": "2019-01-02T11:43:52.342761Z"
    }
   },
   "outputs": [
    {
     "data": {
      "text/plain": [
       "<matplotlib.legend.Legend at 0x1c196cba10>"
      ]
     },
     "execution_count": 53,
     "metadata": {},
     "output_type": "execute_result"
    },
    {
     "data": {
      "image/png": "[encoded data removed]",
      "text/plain": [
       "<Figure size 576x576 with 1 Axes>"
      ]
     },
     "metadata": {
      "needs_background": "light"
     },
     "output_type": "display_data"
    }
   ],
   "source": [
    "#fig=pl.figure(figsize(8,8))\n",
    "\n",
    "ax = pl.subplot(111)\n",
    "\n",
    "#pl.xlim(0,3000)\n",
    "width = 0.35  \n",
    "rects1 = ax.bar(sub.index.values[:5] , sub.tripduration[:5], width, color='r')\n",
    "\n",
    "rects2 = ax.bar(cus.index.values[:5] + width, cus.tripduration[:5], width, color='y')\n",
    "\n",
    "\n",
    "\n",
    "# add some text for labels, title and axes ticks\n",
    "ax.set_ylabel('Average Trip Duration')\n",
    "ax.set_xlabel('Day of the week')\n",
    "ax.set_title('Average Trip Duration per usertype on weekdays')\n",
    "ax.set_xticks(cus.index.values[:5] + width)\n",
    "ax.xaxis.set_ticklabels(['Mon','Tue','Wed','Thu','Fri'], fontsize=10)\n",
    "ax.text(-1,-500, 'Figure : Average Trip Duration of Customers/Subscribers plotted against each other - Weekdays',\\\n",
    "        fontsize = 10, fontweight = 'bold')\n",
    "\n",
    "ax.legend((rects1[0], rects2[0]), ('Subscriber', 'Customer'))\n",
    "\n",
    "#fig=pl.figure(figsize(8,8))"
   ]
  },
  {
   "cell_type": "code",
   "execution_count": 54,
   "metadata": {
    "ExecuteTime": {
     "end_time": "2019-01-02T11:44:01.861208Z",
     "start_time": "2019-01-02T11:44:01.670385Z"
    }
   },
   "outputs": [
    {
     "data": {
      "text/plain": [
       "<matplotlib.legend.Legend at 0x1c1a30f4d0>"
      ]
     },
     "execution_count": 54,
     "metadata": {},
     "output_type": "execute_result"
    },
    {
     "data": {
      "image/png": "[encoded data removed]",
      "text/plain": [
       "<Figure size 576x576 with 1 Axes>"
      ]
     },
     "metadata": {
      "needs_background": "light"
     },
     "output_type": "display_data"
    }
   ],
   "source": [
    "ax = pl.subplot(111)\n",
    "\n",
    "#pl.xlim(0,3000)\n",
    "width = 0.15  \n",
    "rects1 = ax.bar(sub.index.values[5:] , sub.tripduration[5:], width, color='r')\n",
    "\n",
    "rects2 = ax.bar(cus.index.values[5:] + width, cus.tripduration[5:], width, color='y')\n",
    "\n",
    "\n",
    "\n",
    "# add some text for labels, title and axes ticks\n",
    "ax.set_ylabel('Average Trip Duration')\n",
    "ax.set_xlabel('Day of the week')\n",
    "ax.set_title('Average Trip Duration per usertype on weekends')\n",
    "ax.set_xticks(cus.index.values[5:] + width)\n",
    "ax.xaxis.set_ticklabels(['Sat', 'Sun'], fontsize=10)\n",
    "ax.text(5,-500, 'Figure : Average Trip Duration of Customers/Subscribers plotted against each other - Weekends',\\\n",
    "        fontsize = 10, fontweight = 'bold')\n",
    "\n",
    "ax.legend((rects1[0], rects2[0]), ('Subscriber', 'Customer'))"
   ]
  },
  {
   "cell_type": "markdown",
   "metadata": {},
   "source": [
    "#### ----------------------------------------------------------------------------------------------------------------------------------------------------------------------"
   ]
  }
 ],
 "metadata": {
  "kernelspec": {
   "display_name": "Python 3",
   "language": "python",
   "name": "python3"
  },
  "language_info": {
   "codemirror_mode": {
    "name": "ipython",
    "version": 3
   },
   "file_extension": ".py",
   "mimetype": "text/x-python",
   "name": "python",
   "nbconvert_exporter": "python",
   "pygments_lexer": "ipython3",
   "version": "3.7.4"
  }
 },
 "nbformat": 4,
 "nbformat_minor": 4
}
