{
 "cells": [
  {
   "cell_type": "markdown",
   "metadata": {},
   "source": [
    "#### Fibonacci Sequence"
   ]
  },
  {
   "cell_type": "code",
   "execution_count": 4,
   "metadata": {},
   "outputs": [
    {
     "name": "stdout",
     "output_type": "stream",
     "text": [
      "Give amount: 10\n"
     ]
    }
   ],
   "source": [
    "a = int(input('Give amount: '))"
   ]
  },
  {
   "cell_type": "code",
   "execution_count": 9,
   "metadata": {
    "collapsed": true
   },
   "outputs": [],
   "source": [
    "def fib(n):\n",
    "    a, b = 0, 1\n",
    "    for _ in range(n):\n",
    "        yield a\n",
    "        a, b = b, a + b"
   ]
  },
  {
   "cell_type": "code",
   "execution_count": 15,
   "metadata": {},
   "outputs": [
    {
     "name": "stdout",
     "output_type": "stream",
     "text": [
      "[0, 1, 1, 2, 3, 5, 8, 13, 21, 34]\n"
     ]
    }
   ],
   "source": [
    "print(list(fib(a)))"
   ]
  },
  {
   "cell_type": "markdown",
   "metadata": {
    "collapsed": true
   },
   "source": [
    "#### Next Practice - ToDo List"
   ]
  },
  {
   "cell_type": "code",
   "execution_count": null,
   "metadata": {
    "collapsed": true
   },
   "outputs": [],
   "source": [
    "def menuTask():\n",
    "    print(\"1 : To Add a new entry to the list\")\n",
    "    print(\"2 : To Delete an entry from the list\")\n",
    "    print(\"3 : To View the list\")\n",
    "    print(\"4 : To Exit\")\n",
    "\n",
    "def viewTask():\n",
    "    print(\"TO DO LIST\\n\")\n",
    "        \n",
    "    f = open('to_do_list.txt','r+')\n",
    "    list = f.read()\n",
    "    if list == '':\n",
    "        print(\"No Tasks in the List\\n\")\n",
    "        return\n",
    "    f.close()\n",
    "    lists = []\n",
    "    lists = list.split('\\n')\n",
    "    print(\"The tasks in the To Do List are : \\n\")\n",
    "    for index,lines in enumerate(lists):\n",
    "        print(\"{} : {} \\n\".format(index+1,lines))\n",
    "    \n",
    "def addTask():\n",
    "    entry = raw_input(\"Enter the item to the list: \\n\")\n",
    "    f = open('to_do_list.txt','r+')\n",
    "    list = f.read()\n",
    "    lists = []\n",
    "    lists = list.split('\\n')\n",
    "    if lists[0]=='':\n",
    "        del lists[0]\n",
    "    f.close()\n",
    "    f = open('to_do_list.txt','w+')\n",
    "    lists.append(entry)\n",
    "    list = '\\n'.join(lists)\n",
    "    f.write(list)\n",
    "    f.close()\n",
    "\n",
    "def delTask():\n",
    "    index = int(input(\"Enter the entry no which has to be deleted : \\n\"))\n",
    "    f = open('to_do_list.txt','r+')\n",
    "    list = f.read()\n",
    "    lists = []\n",
    "    lists = list.split('\\n')\n",
    "    f.close()\n",
    "    try:\n",
    "        del lists[index-1]\n",
    "    except:\n",
    "        print(\"Please enter the correct choice number\\n\")\n",
    "    f =open('to_do_list.txt','w+')\n",
    "    list = '\\n'.join(lists)\n",
    "    f.write(list)\n",
    "    f.close()\n",
    "\n",
    "def main():\n",
    "    viewTask()\n",
    "    menuTask()\n",
    "    while True:\n",
    "        try:\n",
    "            choice = int(input(\"\\nEnter your choice : \\n\"))\n",
    "        except:\n",
    "            print(\"The choice has to be an interger value\\n\")\n",
    "            continue\n",
    "        if choice==1:\n",
    "            addTask()\n",
    "        elif choice==2:\n",
    "            delTask()\n",
    "        elif choice==3:\n",
    "            viewTask()\n",
    "        else:\n",
    "            break\n",
    "\n",
    "main()"
   ]
  }
 ],
 "metadata": {
  "kernelspec": {
   "display_name": "Python 3",
   "language": "python",
   "name": "python3"
  },
  "language_info": {
   "codemirror_mode": {
    "name": "ipython",
    "version": 3
   },
   "file_extension": ".py",
   "mimetype": "text/x-python",
   "name": "python",
   "nbconvert_exporter": "python",
   "pygments_lexer": "ipython3",
   "version": "3.6.2"
  }
 },
 "nbformat": 4,
 "nbformat_minor": 2
}
